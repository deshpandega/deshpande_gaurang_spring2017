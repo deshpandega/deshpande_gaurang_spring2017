{
 "cells": [
  {
   "cell_type": "markdown",
   "metadata": {},
   "source": [
    "# Question 7\n",
    "#### Use names corpus, calculate the probability of a name being of a male or female base on the last character(s) of name.\n",
    "#### Do this for all characters. \n"
   ]
  },
  {
   "cell_type": "markdown",
   "metadata": {},
   "source": [
    "- Get the list of all the names, all male names and all female names"
   ]
  },
  {
   "cell_type": "code",
   "execution_count": 39,
   "metadata": {
    "collapsed": false
   },
   "outputs": [],
   "source": [
    "import nltk, itertools, string\n",
    "from nltk.corpus import names as names\n",
    "\n",
    "maleNames = names.words('male.txt')                    #Get all male names\n",
    "femaleNames = names.words('female.txt')                #Get all female names\n",
    "totalNames = []\n",
    "for file in names.fileids():\n",
    "    totalNames += [name for name in names.words(file)] #Get total names = male + female"
   ]
  },
  {
   "cell_type": "markdown",
   "metadata": {},
   "source": [
    "- Get the probability of a name ending with a certain letter from a-z"
   ]
  },
  {
   "cell_type": "code",
   "execution_count": 38,
   "metadata": {
    "collapsed": false
   },
   "outputs": [
    {
     "name": "stdout",
     "output_type": "stream",
     "text": [
      "For letter a \n",
      "probability of name being male name is 1.61 % and probability of name being female name is 98.39 %\n",
      "\n",
      "For letter b \n",
      "probability of name being male name is 70.00 % and probability of name being female name is 30.00 %\n",
      "\n",
      "For letter c \n",
      "probability of name being male name is 100.00 % and probability of name being female name is 0.00 %\n",
      "\n",
      "For letter d \n",
      "probability of name being male name is 85.39 % and probability of name being female name is 14.61 %\n",
      "\n",
      "For letter e \n",
      "probability of name being male name is 24.63 % and probability of name being female name is 75.37 %\n",
      "\n",
      "For letter f \n",
      "probability of name being male name is 92.59 % and probability of name being female name is 7.41 %\n",
      "\n",
      "For letter g \n",
      "probability of name being male name is 76.19 % and probability of name being female name is 23.81 %\n",
      "\n",
      "For letter h \n",
      "probability of name being male name is 46.97 % and probability of name being female name is 53.03 %\n",
      "\n",
      "For letter i \n",
      "probability of name being male name is 13.62 % and probability of name being female name is 86.38 %\n",
      "\n",
      "For letter j \n",
      "probability of name being male name is 75.00 % and probability of name being female name is 25.00 %\n",
      "\n",
      "For letter k \n",
      "probability of name being male name is 95.83 % and probability of name being female name is 4.17 %\n",
      "\n",
      "For letter l \n",
      "probability of name being male name is 51.09 % and probability of name being female name is 48.91 %\n",
      "\n",
      "For letter m \n",
      "probability of name being male name is 84.34 % and probability of name being female name is 15.66 %\n",
      "\n",
      "For letter n \n",
      "probability of name being male name is 55.32 % and probability of name being female name is 44.68 %\n",
      "\n",
      "For letter o \n",
      "probability of name being male name is 83.33 % and probability of name being female name is 16.67 %\n",
      "\n",
      "For letter p \n",
      "probability of name being male name is 90.00 % and probability of name being female name is 10.00 %\n",
      "\n",
      "For letter q \n",
      "probability of name being male name is 0.00 % and probability of name being female name is 0.00 %\n",
      "\n",
      "For letter r \n",
      "probability of name being male name is 80.17 % and probability of name being female name is 19.83 %\n",
      "\n",
      "For letter s \n",
      "probability of name being male name is 71.21 % and probability of name being female name is 28.79 %\n",
      "\n",
      "For letter t \n",
      "probability of name being male name is 70.69 % and probability of name being female name is 29.31 %\n",
      "\n",
      "For letter u \n",
      "probability of name being male name is 66.67 % and probability of name being female name is 33.33 %\n",
      "\n",
      "For letter v \n",
      "probability of name being male name is 88.89 % and probability of name being female name is 11.11 %\n",
      "\n",
      "For letter w \n",
      "probability of name being male name is 77.27 % and probability of name being female name is 22.73 %\n",
      "\n",
      "For letter x \n",
      "probability of name being male name is 50.00 % and probability of name being female name is 50.00 %\n",
      "\n",
      "For letter y \n",
      "probability of name being male name is 41.87 % and probability of name being female name is 58.13 %\n",
      "\n",
      "For letter z \n",
      "probability of name being male name is 73.33 % and probability of name being female name is 26.67 %\n",
      "\n"
     ]
    }
   ],
   "source": [
    "#Get a list of all the lowercase letters\n",
    "letters_ending = string.ascii_lowercase[:26]\n",
    "\n",
    "for letter in letters_ending:\n",
    "    #Convert male names to lowercase and get count of male names ending with each letter\n",
    "    maleNamesLength = len([name for name in maleNames if name.lower().endswith(letter)])\n",
    "    \n",
    "    #Convert female names to lowercase and get count of female names ending with each letter\n",
    "    femaleNamesLength = len([name for name in femaleNames if name.lower().endswith(letter)])\n",
    "    \n",
    "    #Convert all names to lowercase and get total count of all names ending with each letter\n",
    "    totalNamesLength = len([name for name in totalNames if name.lower().endswith(letter)])\n",
    "    \n",
    "    #Calculate the probability of a name ending with current letter in context, being a male or female name\n",
    "    #Eliminate the chance of error(divide by 0) for any name not ending with a typical letter like 'q'\n",
    "    if totalNamesLength !=0:\n",
    "        probabilityForMale = 100 * maleNamesLength / totalNamesLength\n",
    "        probabilityForFemale = 100 * femaleNamesLength / totalNamesLength\n",
    "    else:\n",
    "        probabilityForMale = 0.0\n",
    "        probabilityForFemale = 0.0\n",
    "        \n",
    "    #Print the results\n",
    "    print('For letter',letter,'\\nProbability of name being male name is', \"{0:.2f}\".format(probabilityForMale),'% and probability of name being female name is',\"{0:.2f}\".format(probabilityForFemale),'%\\n')"
   ]
  },
  {
   "cell_type": "code",
   "execution_count": null,
   "metadata": {
    "collapsed": true
   },
   "outputs": [],
   "source": []
  }
 ],
 "metadata": {
  "anaconda-cloud": {},
  "kernelspec": {
   "display_name": "Python [default]",
   "language": "python",
   "name": "python3"
  },
  "language_info": {
   "codemirror_mode": {
    "name": "ipython",
    "version": 3
   },
   "file_extension": ".py",
   "mimetype": "text/x-python",
   "name": "python",
   "nbconvert_exporter": "python",
   "pygments_lexer": "ipython3",
   "version": "3.5.2"
  }
 },
 "nbformat": 4,
 "nbformat_minor": 1
}
