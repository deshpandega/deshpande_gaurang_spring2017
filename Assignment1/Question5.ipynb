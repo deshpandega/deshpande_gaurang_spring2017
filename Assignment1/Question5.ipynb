{
 "cells": [
  {
   "cell_type": "markdown",
   "metadata": {},
   "source": [
    "# Question 5\n",
    "#### Use Gutenberg and Web_text data. Find out what are the top 5 words that Shakespeare used but we do not use in currently.\n",
    "#### Take top 50 words from Shakespeare (all 3 books) and top 50 from Web_text (all the records).\n",
    "#### Remove punctuation and stop words."
   ]
  },
  {
   "cell_type": "markdown",
   "metadata": {},
   "source": [
    "- From Shakespeare and Web_text files, the top 5 words that Shakespeare used but are not used currently"
   ]
  },
  {
   "cell_type": "code",
   "execution_count": 153,
   "metadata": {
    "collapsed": false,
    "scrolled": false
   },
   "outputs": [
    {
     "name": "stdout",
     "output_type": "stream",
     "text": [
      "Top 5 words Shakespeare used but are not used usually are:\n",
      "haue\n",
      "brutus\n",
      "vpon\n",
      "bru\n",
      "hath\n"
     ]
    }
   ],
   "source": [
    "import nltk\n",
    "import string\n",
    "import re\n",
    "from nltk.corpus import gutenberg as gut, webtext as web, stopwords \n",
    "\n",
    "stop = stopwords.words('english')      #to remove stop words\n",
    "punc = string.punctuation              #to remove punctuations\n",
    "\n",
    "#Get all Shakespeare books\n",
    "shakespeare = [file for file in gut.fileids() if file.startswith('shakespeare')]\n",
    "freqWord_shakespere = {}\n",
    "for file in shakespeare:\n",
    "    #get all words Shakespeare used with their frequencies in decending order except punctuations\n",
    "    freqWord_shake = nltk.FreqDist(word.lower()  for word in gut.words(file) if word.lower() not in stop and word.lower() not in punc)\n",
    "    if 0 in freqWord_shakespere:\n",
    "        freqWord_shakespere[0] += freqWord_shake      #Add all words in a dict with only one key\n",
    "    else:\n",
    "        freqWord_shakespere[0] = freqWord_shake\n",
    "\n",
    "freqWord_normal = {}\n",
    "#Iterate over all files under webtext\n",
    "for file in web.fileids():\n",
    "    #get all words used currently with their frequencies in decending order except punctuations\n",
    "    freqWord_norm = nltk.FreqDist(word.lower() for word in web.words(file) if word.lower() not in punc and word.lower() not in stop)\n",
    "    if 0 in freqWord_normal:\n",
    "        freqWord_normal[0] += freqWord_norm         #Add all words in another dict with only one key\n",
    "    else:\n",
    "        freqWord_normal[0] = freqWord_norm\n",
    "\n",
    "#Find words that Shakespeare used and check if they are present in currently used words, don't consider if they are still used\n",
    "words = [words[0] for words in freqWord_shakespere[0].most_common() if words[0] not in freqWord_normal[0]]\n",
    "\n",
    "#Print top 5 such words\n",
    "print('Top 5 words Shakespeare used but are not used usually are:')\n",
    "for word in words[:5]:\n",
    "    print(word)"
   ]
  },
  {
   "cell_type": "markdown",
   "metadata": {},
   "source": [
    "- Top 50 words from Shakespeare and Web_text\n"
   ]
  },
  {
   "cell_type": "code",
   "execution_count": 146,
   "metadata": {
    "collapsed": false
   },
   "outputs": [
    {
     "name": "stdout",
     "output_type": "stream",
     "text": [
      "Top 50 words from Shakespeare literature are : \n",
      " [('haue', 448), ('ham', 337), ('thou', 312), ('shall', 300), ('lord', 293), ('come', 232), ('king', 231), ('enter', 230), ('good', 218), ('let', 217), ('thy', 202), ('caesar', 193), ('vs', 184), ('know', 176), ('thee', 174), ('would', 170), ('brutus', 162), ('vpon', 162), ('like', 162), ('bru', 153), ('well', 152), ('hath', 144), ('selfe', 143), ('man', 139), ('may', 138), ('macb', 137), ('yet', 136), ('heere', 135), ('say', 130), ('must', 130), ('tis', 129), ('th', 125), ('speake', 119), ('loue', 119), ('make', 119), ('giue', 118), ('see', 116), ('time', 115), ('night', 114), ('sir', 114), ('one', 112), ('st', 110), ('cassi', 107), ('ile', 106), ('doe', 103), ('hamlet', 100), ('go', 100), ('men', 96), ('hor', 95), ('vp', 94)] \n",
      "\n",
      "Top 50 words from everyday user are : \n",
      " [('girl', 2956), ('guy', 2751), ('1', 2261), ('2', 1709), ('like', 1696), ('...', 1542), ('man', 1075), ('know', 1025), ('woman', 998), ('yeah', 895), ('page', 887), ('firefox', 879), ('get', 869), ('new', 790), ('chick', 714), ('one', 700), ('oh', 682), ('open', 679), ('window', 670), ('good', 644), ('bookmarks', 598), ('teen', 587), ('well', 586), ('firebird', 583), ('cell', 577), ('right', 576), ('go', 564), ('work', 537), ('bar', 536), ('menu', 530), ('tab', 529), ('lady', 524), ('toolbar', 518), ('***', 498), ('boy', 488), ('want', 485), ('think', 484), ('browser', 484), ('jack', 483), ('bookmark', 482), ('old', 475), ('really', 473), ('going', 460), ('download', 442), ('url', 440), ('back', 434), ('time', 432), ('black', 422), ('manager', 420), ('little', 419)] "
     ]
    }
   ],
   "source": [
    "#Get the top 50 most common words from Shakespeare and print with their frequency\n",
    "words_shakespeare = [word for word in freqWord_shakespere[0].most_common(50)]\n",
    "print('Top 50 words from Shakespeare literature are : \\n', words_shakespeare, end=' \\n\\n\\n')\n",
    "\n",
    "#Get the top 50 most common words still in use today and print with their frequency\n",
    "words_normal = [word for word in freqWord_normal[0].most_common(50)]\n",
    "print('Top 50 words from everyday user are : \\n', words_normal, end=' ')"
   ]
  },
  {
   "cell_type": "code",
   "execution_count": null,
   "metadata": {
    "collapsed": true
   },
   "outputs": [],
   "source": []
  }
 ],
 "metadata": {
  "anaconda-cloud": {},
  "kernelspec": {
   "display_name": "Python [default]",
   "language": "python",
   "name": "python3"
  },
  "language_info": {
   "codemirror_mode": {
    "name": "ipython",
    "version": 3
   },
   "file_extension": ".py",
   "mimetype": "text/x-python",
   "name": "python",
   "nbconvert_exporter": "python",
   "pygments_lexer": "ipython3",
   "version": "3.5.2"
  }
 },
 "nbformat": 4,
 "nbformat_minor": 1
}
