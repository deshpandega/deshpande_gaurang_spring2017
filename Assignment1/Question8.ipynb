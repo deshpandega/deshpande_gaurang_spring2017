{
 "cells": [
  {
   "cell_type": "markdown",
   "metadata": {},
   "source": [
    "# Question 8\n",
    "#### Use nps_chat and wordlist corpus.\n",
    "#### Find a word in nps_chat but not in wordlist, it is considered an unusual word.\n",
    "#### Find out how many unusual words people speak in chat (usernames should not be counted)\n",
    "#### Bonus: Find out the count of all emoticons. (optional)"
   ]
  },
  {
   "cell_type": "markdown",
   "metadata": {},
   "source": [
    "- Get all the words from nps chat"
   ]
  },
  {
   "cell_type": "code",
   "execution_count": 2,
   "metadata": {
    "collapsed": false
   },
   "outputs": [],
   "source": [
    "import nltk, itertools\n",
    "from nltk.corpus import nps_chat as nps, words\n",
    "\n",
    "normal_word = []\n",
    "for file in words.fileids():                              #Get all the words from all the files and put in a list\n",
    "    normal_word += [word for word in words.words(file)]"
   ]
  },
  {
   "cell_type": "markdown",
   "metadata": {},
   "source": [
    "- Get all words from wordlist corpus and remove the users mentioned in chats"
   ]
  },
  {
   "cell_type": "code",
   "execution_count": 3,
   "metadata": {
    "collapsed": false
   },
   "outputs": [],
   "source": [
    "chat_words = set(nps.words())                                        #Get all words used by users in chat & remove duplicates\n",
    "users = set([post.get(key='user')[9:] for post in nps.xml_posts()])  #Get all the usernames from nps corpus\n",
    "chat_users = []\n",
    "for user in users:                                                   #Modify usernames to match the format metioned in chat\n",
    "    if user.startswith('U'):                                         #usernames mentioned as 'User###'\n",
    "        chat_users.append(user[0]+user[4:])\n",
    "    elif user.startswith('n'):                                       #usernames mentioned as 'nsUser###'\n",
    "        chat_users.append(user[2]+user[6:])\n",
    "    elif user.startswith('l'):                                       #usernames mentioned as 'ltsUser###'\n",
    "        chat_users.append(user[3]+user[7:])\n",
    "\n",
    "chat_users = set(chat_users)                                         #remove duplicate usernames\n",
    "\n",
    "#Find out words used in chat that are not usernames\n",
    "chat_words = set([chat_word for chat_word in chat_words if chat_word not in chat_users])"
   ]
  },
  {
   "cell_type": "code",
   "execution_count": 5,
   "metadata": {
    "collapsed": false
   },
   "outputs": [
    {
     "name": "stdout",
     "output_type": "stream",
     "text": [
      "There are 3478 unusual words people speak and they are:\n",
      " ['grrrrrrrrrrrrrrrrr', 'peppersteak', 'x-mas', 'Kold', 'pleez', 'iz', 'Very', 'SExy', 'Men', 'eeewwwwww', ',,', 'lies', \"ok'd\", '17', 'Lampert', 'WHO', '$$', 'elbowS', 'shorty', 'Tide', 'runs', 'pms', 'FACE', 'plently', '1985', '((((((', 'cries', '))))))))', 'willams', 'AND', 'rarly', 'netflix', 'ads', 'OOooOO', 'TEXT', 'hiii', '(((((', ',,,,,', 'hmmmmmmmm', 'Where']\n"
     ]
    }
   ],
   "source": [
    "#Find out words that are used in chat and not in words_list corpus\n",
    "unusual_words = [chword for chword in chat_words if chword not in normal_word]\n",
    "\n",
    "#Print all such unusual words\n",
    "print('There are',len(unusual_words),'unusual words people speak and they are:\\n',unusual_words[10:50])"
   ]
  },
  {
   "cell_type": "code",
   "execution_count": 8,
   "metadata": {
    "collapsed": false
   },
   "outputs": [
    {
     "name": "stdout",
     "output_type": "stream",
     "text": [
      "All users used emoticons 1106 times\n"
     ]
    }
   ],
   "source": [
    "#Get all the posts\n",
    "posts = nps.xml_posts()\n",
    "\n",
    "#Find all the posts that have class as 'Emotion'\n",
    "emoticons = [post for post in posts if post.get(key='class')=='Emotion']\n",
    "\n",
    "#Count the number of such posts\n",
    "print('All users used emoticons',len(emoticons),'times')"
   ]
  },
  {
   "cell_type": "code",
   "execution_count": null,
   "metadata": {
    "collapsed": false
   },
   "outputs": [],
   "source": []
  }
 ],
 "metadata": {
  "anaconda-cloud": {},
  "kernelspec": {
   "display_name": "Python [default]",
   "language": "python",
   "name": "python3"
  },
  "language_info": {
   "codemirror_mode": {
    "name": "ipython",
    "version": 3
   },
   "file_extension": ".py",
   "mimetype": "text/x-python",
   "name": "python",
   "nbconvert_exporter": "python",
   "pygments_lexer": "ipython3",
   "version": "3.5.2"
  }
 },
 "nbformat": 4,
 "nbformat_minor": 1
}
