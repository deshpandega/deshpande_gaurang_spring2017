{
 "cells": [
  {
   "cell_type": "markdown",
   "metadata": {},
   "source": [
    "# Question 3\n",
    "#### Under package Webtext, see what files are in it.\n",
    "#### Get content in file 'pirates.txt'.\n",
    "#### According to the number of lines for Jack Sparrow and Will Turner, find out who is the real leading man in this movie."
   ]
  },
  {
   "cell_type": "markdown",
   "metadata": {},
   "source": [
    "- List packages under Webtext"
   ]
  },
  {
   "cell_type": "code",
   "execution_count": 4,
   "metadata": {
    "collapsed": false
   },
   "outputs": [
    {
     "name": "stdout",
     "output_type": "stream",
     "text": [
      "All files under Webtext package are:\n",
      "['firefox.txt', 'grail.txt', 'overheard.txt', 'pirates.txt', 'singles.txt', 'wine.txt']\n"
     ]
    }
   ],
   "source": [
    "import nltk\n",
    "from nltk.corpus import webtext\n",
    "print('All files under Webtext package are:\\n', webtext.fileids())"
   ]
  },
  {
   "cell_type": "markdown",
   "metadata": {},
   "source": [
    "- Get Content of 'pirates.txt'\n",
    "- Find number of lines for Jack Sparrow and Will Turner"
   ]
  },
  {
   "cell_type": "code",
   "execution_count": 43,
   "metadata": {
    "collapsed": false
   },
   "outputs": [
    {
     "name": "stdout",
     "output_type": "stream",
     "text": [
      "Number of lines for Jack Sparrow are more than Will Turner, so Jack is the leading man in this movie\n"
     ]
    }
   ],
   "source": [
    "content = nltk.corpus.webtext.sents('pirates.txt')                          #Get all sentenses from pirates.txt\n",
    "will_lines,jack_lines = 0,0\n",
    "for line in content:\n",
    "    line = ' '.join(line)\n",
    "    will_lines = will_lines + 1 if 'WILL TURNER :' in line else will_lines  #if line contains WILL TURNER : then increment Will's count\n",
    "    jack_lines = jack_lines + 1 if 'JACK SPARROW :' in line else jack_lines #if line contains JACK SPARROW : then increment Jack's count \n",
    "if will_lines == jack_lines:\n",
    "    print('Number of lines for Will Turner and Jack Sparrow are same, so both Will and Jack are the leading men in this movie')\n",
    "elif will_lines > jack_lines:\n",
    "    print('Number of lines for Will Turner are more than Jack Sparrow, so Will is the leading man in this movie')\n",
    "else:\n",
    "    print('Number of lines for Jack Sparrow are more than Will Turner, so Jack is the leading man in this movie')"
   ]
  }
 ],
 "metadata": {
  "anaconda-cloud": {},
  "kernelspec": {
   "display_name": "Python [default]",
   "language": "python",
   "name": "python3"
  },
  "language_info": {
   "codemirror_mode": {
    "name": "ipython",
    "version": 3
   },
   "file_extension": ".py",
   "mimetype": "text/x-python",
   "name": "python",
   "nbconvert_exporter": "python",
   "pygments_lexer": "ipython3",
   "version": "3.5.2"
  }
 },
 "nbformat": 4,
 "nbformat_minor": 1
}
