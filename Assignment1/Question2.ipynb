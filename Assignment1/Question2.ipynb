{
 "cells": [
  {
   "cell_type": "markdown",
   "metadata": {},
   "source": [
    "# Question 2\n",
    "#### Under package Gutenberg get content from file 'melville-moby_dick.txt.'\n",
    "#### Find out frequency of 26 characters. (Turn uppercase into lowercase and count as one character)\n",
    "#### List all 26 characters in order base on their frequency. (From most frequent to least frequent)"
   ]
  },
  {
   "cell_type": "markdown",
   "metadata": {},
   "source": [
    "- Getting content from file \"melville-moby_dick.txt\"\n",
    "- Removing punctuations, white-spaces, tabs, new line characters, special characters, removing numbers\n",
    "- converting the content to lower case"
   ]
  },
  {
   "cell_type": "code",
   "execution_count": 22,
   "metadata": {
    "collapsed": false
   },
   "outputs": [],
   "source": [
    "import nltk\n",
    "import string\n",
    "import re\n",
    "from nltk.corpus import gutenberg\n",
    "content = nltk.corpus.gutenberg.raw('melville-moby_dick.txt')\n",
    "content = ''.join(ch for ch in content if ch not in set(string.punctuation)).lower()  #Remove punctuations and make lower case\n",
    "content = re.sub(r\"\\W\", \"\", content)                                                  #Remove white-spaces\n",
    "content = re.sub(r'\\d+', '', content)                                                 #Remove numbers"
   ]
  },
  {
   "cell_type": "markdown",
   "metadata": {},
   "source": [
    "- Finding out the most frequent characters and their frequencies"
   ]
  },
  {
   "cell_type": "code",
   "execution_count": 21,
   "metadata": {
    "collapsed": false
   },
   "outputs": [
    {
     "name": "stdout",
     "output_type": "stream",
     "text": [
      "The most frequent characters and their respective frequencies: \n",
      "\n",
      " [('e', 117092), ('t', 87996), ('a', 77916), ('o', 69326), ('n', 65617), ('i', 65434), ('s', 64231), ('h', 62896), ('r', 52134), ('l', 42793), ('d', 38219), ('u', 26697), ('m', 23277), ('c', 22507), ('w', 22222), ('f', 20833), ('g', 20820), ('p', 17255), ('b', 16877), ('y', 16872), ('v', 8598), ('k', 8059), ('q', 1556), ('j', 1082), ('x', 1030), ('z', 632)]\n"
     ]
    }
   ],
   "source": [
    "import operator\n",
    "alphabets_dict = {}\n",
    "for x in content:                #Check whether the current letter in context is present in the dictionary\n",
    "    if x in alphabets_dict:      #If it is present, increment the count for that letter\n",
    "        alphabets_dict[x] +=1\n",
    "    else:                        #Else add it to dictionary\n",
    "        alphabets_dict[x] = 1\n",
    "\n",
    "#Sort the dictionary according to values\n",
    "sorted_alphabets_dict = sorted(alphabets_dict.items(), key=operator.itemgetter(1), reverse=True)\n",
    "print('The most frequent characters and their respective frequencies: \\n\\n', sorted_alphabets_dict)"
   ]
  }
 ],
 "metadata": {
  "anaconda-cloud": {},
  "kernelspec": {
   "display_name": "Python [default]",
   "language": "python",
   "name": "python3"
  },
  "language_info": {
   "codemirror_mode": {
    "name": "ipython",
    "version": 3
   },
   "file_extension": ".py",
   "mimetype": "text/x-python",
   "name": "python",
   "nbconvert_exporter": "python",
   "pygments_lexer": "ipython3",
   "version": "3.5.2"
  }
 },
 "nbformat": 4,
 "nbformat_minor": 1
}
