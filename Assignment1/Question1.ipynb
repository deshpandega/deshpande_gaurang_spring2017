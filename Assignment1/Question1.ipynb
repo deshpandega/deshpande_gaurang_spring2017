{
 "cells": [
  {
   "cell_type": "markdown",
   "metadata": {},
   "source": [
    "# Question 1\n",
    "#### Under package Gutenberg, see what files are in it.\n",
    "#### Find out how many words and how many unique words in file 'austen-persuasion.txt'.\n",
    "#### Calculate the frequency for each words and show the top 10 most frequent words and their frequency\n",
    "#### Keep the punctuation and stop words in this question.\n"
   ]
  },
  {
   "cell_type": "markdown",
   "metadata": {},
   "source": [
    "- List the files under Gutenberg "
   ]
  },
  {
   "cell_type": "code",
   "execution_count": 1,
   "metadata": {
    "collapsed": false,
    "scrolled": true
   },
   "outputs": [
    {
     "name": "stdout",
     "output_type": "stream",
     "text": [
      "All files under Gutenberg package are:\n",
      " ['austen-emma.txt', 'austen-persuasion.txt', 'austen-sense.txt', 'bible-kjv.txt', 'blake-poems.txt', 'bryant-stories.txt', 'burgess-busterbrown.txt', 'carroll-alice.txt', 'chesterton-ball.txt', 'chesterton-brown.txt', 'chesterton-thursday.txt', 'edgeworth-parents.txt', 'melville-moby_dick.txt', 'milton-paradise.txt', 'shakespeare-caesar.txt', 'shakespeare-hamlet.txt', 'shakespeare-macbeth.txt', 'whitman-leaves.txt']\n"
     ]
    }
   ],
   "source": [
    "import nltk\n",
    "from nltk.corpus import gutenberg\n",
    "print('All files under Gutenberg package are:\\n',gutenberg.fileids())"
   ]
  },
  {
   "cell_type": "markdown",
   "metadata": {},
   "source": [
    "- Find number of words and unique words in file \"austen-persuasion.txt\""
   ]
  },
  {
   "cell_type": "code",
   "execution_count": 13,
   "metadata": {
    "collapsed": false
   },
   "outputs": [
    {
     "name": "stdout",
     "output_type": "stream",
     "text": [
      "Total number of words in \"austen-persuasion.txt\" are: 98171\n",
      "Total number of unique words in \"austen-persuasion.txt\" are: 6132\n"
     ]
    }
   ],
   "source": [
    "words = nltk.corpus.gutenberg.words('austen-persuasion.txt')\n",
    "#Total number of words in \"austen-persuasion.txt\"\n",
    "print('Total number of words in \"austen-persuasion.txt\" are:',len(words))\n",
    "\n",
    "#Unique words in file \"austen-persuasion.txt\"\n",
    "unique_words = set(words)\n",
    "print('Total number of unique words in \"austen-persuasion.txt\" are:',len(unique_words))"
   ]
  },
  {
   "cell_type": "markdown",
   "metadata": {},
   "source": [
    "- Frequency of each word and top 10 most frequent words"
   ]
  },
  {
   "cell_type": "code",
   "execution_count": 55,
   "metadata": {
    "collapsed": false
   },
   "outputs": [
    {
     "name": "stdout",
     "output_type": "stream",
     "text": [
      "Top 10 most frequent word and their respective frequencies: \n",
      "\n",
      " [(',', 6750), ('the', 3120), ('to', 2775), ('.', 2741), ('and', 2739), ('of', 2564), ('a', 1529), ('in', 1346), ('was', 1330), (';', 1290)]\n"
     ]
    }
   ],
   "source": [
    "import operator\n",
    "words_dict = {}\n",
    "for x in words:              #Check whether the current word in context is present in the dictionary\n",
    "    if x in words_dict:      #If it is present, increment the count for that word\n",
    "        words_dict[x] +=1\n",
    "    else:                   #Else add it to dictionary\n",
    "        words_dict[x] = 1\n",
    "\n",
    "#Sort the dictionary according to values and take top 10\n",
    "sorted_words_dict = sorted(words_dict.items(), key=operator.itemgetter(1), reverse=True)[:10]\n",
    "print('Top 10 most frequent word and their respective frequencies: \\n\\n', sorted_words_dict)"
   ]
  }
 ],
 "metadata": {
  "anaconda-cloud": {},
  "kernelspec": {
   "display_name": "Python [default]",
   "language": "python",
   "name": "python3"
  },
  "language_info": {
   "codemirror_mode": {
    "name": "ipython",
    "version": 3
   },
   "file_extension": ".py",
   "mimetype": "text/x-python",
   "name": "python",
   "nbconvert_exporter": "python",
   "pygments_lexer": "ipython3",
   "version": "3.5.2"
  }
 },
 "nbformat": 4,
 "nbformat_minor": 1
}
