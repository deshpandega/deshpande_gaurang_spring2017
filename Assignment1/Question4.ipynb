{
 "cells": [
  {
   "cell_type": "markdown",
   "metadata": {},
   "source": [
    "# Question 4\n",
    "#### Under package nps_chat, see what files are in it.\n",
    "#### Find 'User121' and see how many posts he posted in all.\n",
    "#### Find out how many unique user in each age range group. (20s, 30s,...)"
   ]
  },
  {
   "cell_type": "markdown",
   "metadata": {},
   "source": [
    "- List packages under nps_chat"
   ]
  },
  {
   "cell_type": "code",
   "execution_count": 2,
   "metadata": {
    "collapsed": false
   },
   "outputs": [
    {
     "name": "stdout",
     "output_type": "stream",
     "text": [
      "All files under nps_chat package are:\n",
      " ['10-19-20s_706posts.xml', '10-19-30s_705posts.xml', '10-19-40s_686posts.xml', '10-19-adults_706posts.xml', '10-24-40s_706posts.xml', '10-26-teens_706posts.xml', '11-06-adults_706posts.xml', '11-08-20s_705posts.xml', '11-08-40s_706posts.xml', '11-08-adults_705posts.xml', '11-08-teens_706posts.xml', '11-09-20s_706posts.xml', '11-09-40s_706posts.xml', '11-09-adults_706posts.xml', '11-09-teens_706posts.xml']\n"
     ]
    }
   ],
   "source": [
    "import nltk\n",
    "from nltk.corpus import nps_chat as nps\n",
    "print('All files under nps_chat package are:\\n', nps.fileids())    #Get all the fields ids in nps package"
   ]
  },
  {
   "cell_type": "markdown",
   "metadata": {},
   "source": [
    "- Finding User121 and the number of posts he posted"
   ]
  },
  {
   "cell_type": "code",
   "execution_count": 3,
   "metadata": {
    "collapsed": false
   },
   "outputs": [
    {
     "name": "stdout",
     "output_type": "stream",
     "text": [
      "User121 has posted 132 posts\n"
     ]
    }
   ],
   "source": [
    "content = nps.xml_posts()                                                                #Get all posts from xml file\n",
    "users = [post.get(key='user') for post in content if 'User121' in post.get(key='user')]  #check if user of post is User121\n",
    "print('User121 has posted', len(users), 'posts')"
   ]
  },
  {
   "cell_type": "markdown",
   "metadata": {},
   "source": [
    "- Finding users in each group"
   ]
  },
  {
   "cell_type": "code",
   "execution_count": 6,
   "metadata": {
    "collapsed": false
   },
   "outputs": [
    {
     "name": "stdout",
     "output_type": "stream",
     "text": [
      "Age group: 20 - Unique users: 162\n",
      "Age group: 30 - Unique users: 44\n",
      "Age group: teen - Unique users: 206\n",
      "Age group: adult - Unique users: 138\n",
      "Age group: 40 - Unique users: 80\n"
     ]
    }
   ],
   "source": [
    "uniq_users = {}\n",
    "for file in nps.fileids():\n",
    "    file = nps.xml_posts(file)                                     #Get each file to find its users\n",
    "    us = list(set([post.get(key='user')[9:] for post in file]))    #Get all users and eliminate duplicates within each file\n",
    "    if file.fileid[64:-14] in uniq_users:\n",
    "        uniq_users[file.fileid[64:-14]] += us                      #If age group as key is added to dict, update users count \n",
    "    else:\n",
    "        uniq_users[file.fileid[64:-14]] = us                       #Else add age group as key in dict and its users as count\n",
    "\n",
    "for key,value in uniq_users.items():\n",
    "    uniq_users[key] = set(uniq_users[key])                         #Eliminate duplicate users from different files under same age\n",
    "for key,value in uniq_users.items():\n",
    "    print('Age group:',key,'- Unique users:',len(uniq_users[key])) #Find the number of users in each age group\n",
    "    "
   ]
  },
  {
   "cell_type": "code",
   "execution_count": null,
   "metadata": {
    "collapsed": true
   },
   "outputs": [],
   "source": []
  }
 ],
 "metadata": {
  "anaconda-cloud": {},
  "kernelspec": {
   "display_name": "Python [default]",
   "language": "python",
   "name": "python3"
  },
  "language_info": {
   "codemirror_mode": {
    "name": "ipython",
    "version": 3
   },
   "file_extension": ".py",
   "mimetype": "text/x-python",
   "name": "python",
   "nbconvert_exporter": "python",
   "pygments_lexer": "ipython3",
   "version": "3.5.2"
  }
 },
 "nbformat": 4,
 "nbformat_minor": 1
}
