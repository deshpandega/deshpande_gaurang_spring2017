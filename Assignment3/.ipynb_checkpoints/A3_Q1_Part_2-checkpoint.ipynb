{
 "cells": [
  {
   "cell_type": "markdown",
   "metadata": {},
   "source": [
    "# Q1_Part_Two\n",
    "\n",
    "#### NYC Vehicle collision analysis\n",
    "#### For each borough, find distribution of each collision scale "
   ]
  },
  {
   "cell_type": "code",
   "execution_count": 1,
   "metadata": {
    "collapsed": false
   },
   "outputs": [],
   "source": [
    "# Import statements\n",
    "from pandas import Series, DataFrame\n",
    "import pandas as pd, numpy as np, os\n",
    "from numpy import nan as NA"
   ]
  },
  {
   "cell_type": "code",
   "execution_count": 2,
   "metadata": {
    "collapsed": true
   },
   "outputs": [],
   "source": [
    "# Take relative path for data\n",
    "current_dir = os.path.dirname('__file__')\n",
    "data_dir = os.path.join(current_dir, 'Data')\n",
    "filename = 'vehicle_collisions.csv'\n",
    "\n",
    "# Generate the file path by joining the directory path and file name for input csv file\n",
    "file_path = os.path.join(data_dir, filename)"
   ]
  },
  {
   "cell_type": "code",
   "execution_count": 3,
   "metadata": {
    "collapsed": true
   },
   "outputs": [],
   "source": [
    "# Read csv file using pd.read_csv\n",
    "vehicle_df = pd.read_csv(file_path,sep=',')"
   ]
  },
  {
   "cell_type": "code",
   "execution_count": 4,
   "metadata": {
    "collapsed": false
   },
   "outputs": [],
   "source": [
    "# Remove unwanted columns\n",
    "vehicle_df = vehicle_df.drop(['UNIQUE KEY','DATE','TIME','ZIP CODE','LATITUDE','LONGITUDE','LOCATION','ON STREET NAME','CROSS STREET NAME','OFF STREET NAME','PERSONS INJURED','PERSONS KILLED','PEDESTRIANS INJURED','PEDESTRIANS KILLED','CYCLISTS INJURED','CYCLISTS KILLED','MOTORISTS INJURED','MOTORISTS KILLED','VEHICLE 1 FACTOR','VEHICLE 2 FACTOR','VEHICLE 3 FACTOR','VEHICLE 4 FACTOR','VEHICLE 5 FACTOR'], axis = 1)"
   ]
  },
  {
   "cell_type": "code",
   "execution_count": 5,
   "metadata": {
    "collapsed": false,
    "scrolled": false
   },
   "outputs": [],
   "source": [
    "# Split dataframe into 2 different data frames to handle the NaN values differently\n",
    "\n",
    "# Fill in NYC as NaN value in Borough\n",
    "borough_df = vehicle_df.drop(['VEHICLE 1 TYPE','VEHICLE 2 TYPE','VEHICLE 3 TYPE','VEHICLE 4 TYPE','VEHICLE 5 TYPE'], axis = 1)\n",
    "borough_df.fillna('NYC', inplace=True)"
   ]
  },
  {
   "cell_type": "code",
   "execution_count": 6,
   "metadata": {
    "collapsed": false
   },
   "outputs": [],
   "source": [
    "# Leave values as NaN in vehicles involved\n",
    "vehicles_involved_df = vehicle_df.drop(['BOROUGH'], axis = 1)\n",
    "\n",
    "# Count the number of behicles involved for each index\n",
    "vehicles_involved_df = vehicles_involved_df.count(axis=1)"
   ]
  },
  {
   "cell_type": "code",
   "execution_count": 7,
   "metadata": {
    "collapsed": false
   },
   "outputs": [],
   "source": [
    "# Combine the data frame\n",
    "vehicle_df = pd.concat([borough_df, vehicles_involved_df], axis=1)"
   ]
  },
  {
   "cell_type": "code",
   "execution_count": 8,
   "metadata": {
    "collapsed": false
   },
   "outputs": [
    {
     "data": {
      "text/html": [
       "<div>\n",
       "<table border=\"1\" class=\"dataframe\">\n",
       "  <thead>\n",
       "    <tr style=\"text-align: right;\">\n",
       "      <th></th>\n",
       "      <th>BOROUGH</th>\n",
       "      <th>COUNT</th>\n",
       "    </tr>\n",
       "  </thead>\n",
       "  <tbody>\n",
       "    <tr>\n",
       "      <th>0</th>\n",
       "      <td>QUEENS</td>\n",
       "      <td>1</td>\n",
       "    </tr>\n",
       "    <tr>\n",
       "      <th>1</th>\n",
       "      <td>NYC</td>\n",
       "      <td>1</td>\n",
       "    </tr>\n",
       "    <tr>\n",
       "      <th>2</th>\n",
       "      <td>BROOKLYN</td>\n",
       "      <td>2</td>\n",
       "    </tr>\n",
       "    <tr>\n",
       "      <th>3</th>\n",
       "      <td>BROOKLYN</td>\n",
       "      <td>2</td>\n",
       "    </tr>\n",
       "    <tr>\n",
       "      <th>4</th>\n",
       "      <td>NYC</td>\n",
       "      <td>2</td>\n",
       "    </tr>\n",
       "  </tbody>\n",
       "</table>\n",
       "</div>"
      ],
      "text/plain": [
       "    BOROUGH  COUNT\n",
       "0    QUEENS      1\n",
       "1       NYC      1\n",
       "2  BROOKLYN      2\n",
       "3  BROOKLYN      2\n",
       "4       NYC      2"
      ]
     },
     "execution_count": 8,
     "metadata": {},
     "output_type": "execute_result"
    }
   ],
   "source": [
    "# Rename the column containing number of vehicles involved as COUNT \n",
    "vehicle_df.columns.values[1]='COUNT'\n",
    "vehicle_df.head()"
   ]
  },
  {
   "cell_type": "code",
   "execution_count": 9,
   "metadata": {
    "collapsed": false
   },
   "outputs": [],
   "source": [
    "# Generate dataframe to get values for QUEENS borough and number of vehicles involved\n",
    "QUEENS_DF = DataFrame({})\n",
    "QUEENS_DF['ONE_VEHICLE_INVOLVED'] = vehicle_df[(vehicle_df['BOROUGH']=='QUEENS')&(vehicle_df['COUNT']==1)].count()\n",
    "QUEENS_DF['TWO_VEHICLE_INVOLVED'] = vehicle_df[(vehicle_df['BOROUGH']=='QUEENS')&(vehicle_df['COUNT']==2)].count()\n",
    "QUEENS_DF['THREE_VEHICLE_INVOLVED'] = vehicle_df[(vehicle_df['BOROUGH']=='QUEENS')&(vehicle_df['COUNT']==3)].count()\n",
    "QUEENS_DF['MORE_VEHICLE_INVOLVED'] = vehicle_df[(vehicle_df['BOROUGH']=='QUEENS')&((vehicle_df['COUNT']>3)|(vehicle_df['COUNT']==0))].count()\n",
    "\n",
    "# Cleaning the data frame and renaming \n",
    "QUEENS_DF.index.values[1]='QUEENS'\n",
    "QUEENS_DF = QUEENS_DF.drop('BOROUGH')"
   ]
  },
  {
   "cell_type": "code",
   "execution_count": 10,
   "metadata": {
    "collapsed": false
   },
   "outputs": [],
   "source": [
    "# Generate dataframe to get values for BRONX borough and number of vehicles involved\n",
    "BRONX_DF = DataFrame({})\n",
    "BRONX_DF['ONE_VEHICLE_INVOLVED'] = vehicle_df[(vehicle_df['BOROUGH']=='BRONX')&(vehicle_df['COUNT']==1)].count()\n",
    "BRONX_DF['TWO_VEHICLE_INVOLVED'] = vehicle_df[(vehicle_df['BOROUGH']=='BRONX')&(vehicle_df['COUNT']==2)].count()\n",
    "BRONX_DF['THREE_VEHICLE_INVOLVED'] = vehicle_df[(vehicle_df['BOROUGH']=='BRONX')&(vehicle_df['COUNT']==3)].count()\n",
    "BRONX_DF['MORE_VEHICLE_INVOLVED'] = vehicle_df[(vehicle_df['BOROUGH']=='BRONX')&((vehicle_df['COUNT']>3)|(vehicle_df['COUNT']==0))].count()\n",
    "\n",
    "# Cleaning the data frame and renaming\n",
    "BRONX_DF.index.values[1]='BRONX'\n",
    "BRONX_DF = BRONX_DF.drop('BOROUGH')\n",
    "\n",
    "# Concatinating the dataframes to generate final output\n",
    "final = pd.concat([QUEENS_DF,BRONX_DF])"
   ]
  },
  {
   "cell_type": "code",
   "execution_count": 11,
   "metadata": {
    "collapsed": false
   },
   "outputs": [],
   "source": [
    "# Generate dataframe to get values for BROOKLYN borough and number of vehicles involved\n",
    "BROOKLYN_DF = DataFrame({})\n",
    "BROOKLYN_DF['ONE_VEHICLE_INVOLVED'] = vehicle_df[(vehicle_df['BOROUGH']=='BROOKLYN')&(vehicle_df['COUNT']==1)].count()\n",
    "BROOKLYN_DF['TWO_VEHICLE_INVOLVED'] = vehicle_df[(vehicle_df['BOROUGH']=='BROOKLYN')&(vehicle_df['COUNT']==2)].count()\n",
    "BROOKLYN_DF['THREE_VEHICLE_INVOLVED'] = vehicle_df[(vehicle_df['BOROUGH']=='BROOKLYN')&(vehicle_df['COUNT']==3)].count()\n",
    "BROOKLYN_DF['MORE_VEHICLE_INVOLVED'] = vehicle_df[(vehicle_df['BOROUGH']=='BROOKLYN')&((vehicle_df['COUNT']>3)|(vehicle_df['COUNT']==0))].count()\n",
    "\n",
    "# Cleaning the data frame and renaming\n",
    "BROOKLYN_DF.index.values[1]='BROOKLYN'\n",
    "BROOKLYN_DF = BROOKLYN_DF.drop('BOROUGH')\n",
    "\n",
    "# Concatinating the dataframes to generate final output\n",
    "final = pd.concat([final,BROOKLYN_DF])"
   ]
  },
  {
   "cell_type": "code",
   "execution_count": 12,
   "metadata": {
    "collapsed": false
   },
   "outputs": [],
   "source": [
    "# Generate dataframe to get values for MANHATTAN borough and number of vehicles involved\n",
    "MANHATTAN_DF = DataFrame({})\n",
    "MANHATTAN_DF['ONE_VEHICLE_INVOLVED'] = vehicle_df[(vehicle_df['BOROUGH']=='MANHATTAN')&(vehicle_df['COUNT']==1)].count()\n",
    "MANHATTAN_DF['TWO_VEHICLE_INVOLVED'] = vehicle_df[(vehicle_df['BOROUGH']=='MANHATTAN')&(vehicle_df['COUNT']==2)].count()\n",
    "MANHATTAN_DF['THREE_VEHICLE_INVOLVED'] = vehicle_df[(vehicle_df['BOROUGH']=='MANHATTAN')&(vehicle_df['COUNT']==3)].count()\n",
    "MANHATTAN_DF['MORE_VEHICLE_INVOLVED'] = vehicle_df[(vehicle_df['BOROUGH']=='MANHATTAN')&((vehicle_df['COUNT']>3)|(vehicle_df['COUNT']==0))].count()\n",
    "\n",
    "# Cleaning the data frame and renaming\n",
    "MANHATTAN_DF.index.values[1]='MANHATTAN'\n",
    "MANHATTAN_DF = MANHATTAN_DF.drop('BOROUGH')\n",
    "\n",
    "# Concatinating the dataframes to generate final output\n",
    "final = pd.concat([final,MANHATTAN_DF])"
   ]
  },
  {
   "cell_type": "code",
   "execution_count": 13,
   "metadata": {
    "collapsed": false
   },
   "outputs": [],
   "source": [
    "# Generate dataframe to get values for STATEN ISLAND borough and number of vehicles involved\n",
    "STATEN_ISLAND_DF = DataFrame({})\n",
    "STATEN_ISLAND_DF['ONE_VEHICLE_INVOLVED'] = vehicle_df[(vehicle_df['BOROUGH']=='STATEN ISLAND')&(vehicle_df['COUNT']==1)].count()\n",
    "STATEN_ISLAND_DF['TWO_VEHICLE_INVOLVED'] = vehicle_df[(vehicle_df['BOROUGH']=='STATEN ISLAND')&(vehicle_df['COUNT']==2)].count()\n",
    "STATEN_ISLAND_DF['THREE_VEHICLE_INVOLVED'] = vehicle_df[(vehicle_df['BOROUGH']=='STATEN ISLAND')&(vehicle_df['COUNT']==3)].count()\n",
    "STATEN_ISLAND_DF['MORE_VEHICLE_INVOLVED'] = vehicle_df[(vehicle_df['BOROUGH']=='STATEN ISLAND')&((vehicle_df['COUNT']>3)|(vehicle_df['COUNT']==0))].count()\n",
    "\n",
    "# Cleaning the data frame and renaming\n",
    "STATEN_ISLAND_DF.index.values[1]='STATEN ISLAND'\n",
    "STATEN_ISLAND_DF = STATEN_ISLAND_DF.drop('BOROUGH')\n",
    "\n",
    "# Concatinating the dataframes to generate final output\n",
    "final = pd.concat([final,STATEN_ISLAND_DF])"
   ]
  },
  {
   "cell_type": "code",
   "execution_count": 14,
   "metadata": {
    "collapsed": false
   },
   "outputs": [],
   "source": [
    "# Generate dataframe to get values for UNKNOWN borough renamed an NYC and number of vehicles involved\n",
    "NYC_DF = DataFrame({})\n",
    "NYC_DF['ONE_VEHICLE_INVOLVED'] = vehicle_df[(vehicle_df['BOROUGH']=='NYC')&(vehicle_df['COUNT']==1)].count()\n",
    "NYC_DF['TWO_VEHICLE_INVOLVED'] = vehicle_df[(vehicle_df['BOROUGH']=='NYC')&(vehicle_df['COUNT']==2)].count()\n",
    "NYC_DF['THREE_VEHICLE_INVOLVED'] = vehicle_df[(vehicle_df['BOROUGH']=='NYC')&(vehicle_df['COUNT']==3)].count()\n",
    "NYC_DF['MORE_VEHICLE_INVOLVED'] = vehicle_df[(vehicle_df['BOROUGH']=='NYC')&((vehicle_df['COUNT']>3)|(vehicle_df['COUNT']==0))].count()\n",
    "\n",
    "# Cleaning the data frame and renaming\n",
    "NYC_DF.index.values[1]='NYC'\n",
    "NYC_DF = NYC_DF.drop('BOROUGH')\n",
    "\n",
    "# Concatinating the dataframes to generate final output\n",
    "final = pd.concat([final,NYC_DF])"
   ]
  },
  {
   "cell_type": "code",
   "execution_count": 23,
   "metadata": {
    "collapsed": false
   },
   "outputs": [],
   "source": [
    "final = final.rename_axis(\"BOROUGH\", axis=1)"
   ]
  },
  {
   "cell_type": "code",
   "execution_count": 24,
   "metadata": {
    "collapsed": false
   },
   "outputs": [
    {
     "data": {
      "text/html": [
       "<div>\n",
       "<table border=\"1\" class=\"dataframe\">\n",
       "  <thead>\n",
       "    <tr style=\"text-align: right;\">\n",
       "      <th>BOROUGH</th>\n",
       "      <th>ONE_VEHICLE_INVOLVED</th>\n",
       "      <th>TWO_VEHICLE_INVOLVED</th>\n",
       "      <th>THREE_VEHICLE_INVOLVED</th>\n",
       "      <th>MORE_VEHICLE_INVOLVED</th>\n",
       "    </tr>\n",
       "  </thead>\n",
       "  <tbody>\n",
       "    <tr>\n",
       "      <th>QUEENS</th>\n",
       "      <td>12962</td>\n",
       "      <td>70260</td>\n",
       "      <td>4498</td>\n",
       "      <td>1935</td>\n",
       "    </tr>\n",
       "    <tr>\n",
       "      <th>BRONX</th>\n",
       "      <td>8627</td>\n",
       "      <td>34385</td>\n",
       "      <td>1962</td>\n",
       "      <td>1150</td>\n",
       "    </tr>\n",
       "    <tr>\n",
       "      <th>BROOKLYN</th>\n",
       "      <td>17375</td>\n",
       "      <td>80207</td>\n",
       "      <td>4980</td>\n",
       "      <td>2399</td>\n",
       "    </tr>\n",
       "    <tr>\n",
       "      <th>MANHATTAN</th>\n",
       "      <td>13318</td>\n",
       "      <td>66958</td>\n",
       "      <td>2024</td>\n",
       "      <td>1302</td>\n",
       "    </tr>\n",
       "    <tr>\n",
       "      <th>STATEN ISLAND</th>\n",
       "      <td>2343</td>\n",
       "      <td>10676</td>\n",
       "      <td>759</td>\n",
       "      <td>270</td>\n",
       "    </tr>\n",
       "  </tbody>\n",
       "</table>\n",
       "</div>"
      ],
      "text/plain": [
       "BOROUGH        ONE_VEHICLE_INVOLVED  TWO_VEHICLE_INVOLVED  \\\n",
       "QUEENS                        12962                 70260   \n",
       "BRONX                          8627                 34385   \n",
       "BROOKLYN                      17375                 80207   \n",
       "MANHATTAN                     13318                 66958   \n",
       "STATEN ISLAND                  2343                 10676   \n",
       "\n",
       "BOROUGH        THREE_VEHICLE_INVOLVED  MORE_VEHICLE_INVOLVED  \n",
       "QUEENS                           4498                   1935  \n",
       "BRONX                            1962                   1150  \n",
       "BROOKLYN                         4980                   2399  \n",
       "MANHATTAN                        2024                   1302  \n",
       "STATEN ISLAND                     759                    270  "
      ]
     },
     "execution_count": 24,
     "metadata": {},
     "output_type": "execute_result"
    }
   ],
   "source": [
    "final.head()"
   ]
  },
  {
   "cell_type": "code",
   "execution_count": 25,
   "metadata": {
    "collapsed": true
   },
   "outputs": [],
   "source": [
    "# Generate the file path by joining the directory path and file name for output csv file\n",
    "op_filename = 'q1_part_2.csv'\n",
    "op_file_path = os.path.join(current_dir,'output')\n",
    "\n",
    "# Create output filepath\n",
    "if not os.path.exists(op_file_path):\n",
    "    os.mkdir(op_file_path)\n",
    "\n",
    "# Get the file name\n",
    "file_name = op_filename\n",
    "file_path = os.path.join(op_file_path, file_name)"
   ]
  },
  {
   "cell_type": "code",
   "execution_count": 26,
   "metadata": {
    "collapsed": true
   },
   "outputs": [],
   "source": [
    "#Save file to created output file\n",
    "final.to_csv(file_path)"
   ]
  },
  {
   "cell_type": "code",
   "execution_count": null,
   "metadata": {
    "collapsed": true
   },
   "outputs": [],
   "source": []
  }
 ],
 "metadata": {
  "anaconda-cloud": {},
  "kernelspec": {
   "display_name": "Python [default]",
   "language": "python",
   "name": "python3"
  },
  "language_info": {
   "codemirror_mode": {
    "name": "ipython",
    "version": 3
   },
   "file_extension": ".py",
   "mimetype": "text/x-python",
   "name": "python",
   "nbconvert_exporter": "python",
   "pygments_lexer": "ipython3",
   "version": "3.5.2"
  }
 },
 "nbformat": 4,
 "nbformat_minor": 1
}
