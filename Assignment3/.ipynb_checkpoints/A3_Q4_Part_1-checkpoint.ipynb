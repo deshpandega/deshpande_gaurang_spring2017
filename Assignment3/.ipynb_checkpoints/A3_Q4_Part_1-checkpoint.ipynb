{
 "cells": [
  {
   "cell_type": "markdown",
   "metadata": {},
   "source": [
    "# Q4_Part_One\n",
    "\n",
    "#### Movie Awards Analysis\n",
    "#### Create different columns for different awards nominations and awards won"
   ]
  },
  {
   "cell_type": "code",
   "execution_count": 1,
   "metadata": {
    "collapsed": true
   },
   "outputs": [],
   "source": [
    "# Import statements\n",
    "from pandas import Series, DataFrame\n",
    "import pandas as pd, numpy as np, os\n",
    "from numpy import nan as NA"
   ]
  },
  {
   "cell_type": "code",
   "execution_count": 2,
   "metadata": {
    "collapsed": true
   },
   "outputs": [],
   "source": [
    "# Take relative path for data\n",
    "current_dir = os.path.dirname('__file__')\n",
    "data_dir = os.path.join(current_dir, 'Data')\n",
    "filename = 'movies_awards.csv'\n",
    "\n",
    "# Generate the file path by joining the directory path and file name for input csv file\n",
    "file_path = os.path.join(data_dir, filename)"
   ]
  },
  {
   "cell_type": "code",
   "execution_count": 3,
   "metadata": {
    "collapsed": true
   },
   "outputs": [],
   "source": [
    "# Read csv file using pd.read_csv\n",
    "awards_df = pd.read_csv(file_path,sep=',')\n",
    "\n",
    "# Remove unwanted columns\n",
    "awards_df = awards_df.drop(['totalSeasons','Plot','Rated','Response','Language','Title','Country','Writer','Metascore','imdbRating','Director','Released','Actors','Year','Genre','Runtime','Type','Poster','imdbVotes','imdbID'], axis = 1)"
   ]
  },
  {
   "cell_type": "code",
   "execution_count": 4,
   "metadata": {
    "collapsed": false
   },
   "outputs": [],
   "source": [
    "awards_df = awards_df.dropna()"
   ]
  },
  {
   "cell_type": "code",
   "execution_count": 5,
   "metadata": {
    "collapsed": true
   },
   "outputs": [],
   "source": [
    "# Method to extract Total Awards Won\n",
    "def extractTotalAwardsWon(row):\n",
    "    won = 0\n",
    "    if 'win' in row['Awards']:\n",
    "        value = row['Awards'].split(' win')\n",
    "        won = value[0]\n",
    "        if 'Another' in won:\n",
    "            temp = won.split('Another ')\n",
    "            won = temp[1]\n",
    "            if 'Won' in temp[0]:\n",
    "                temp = temp[0][4:6]\n",
    "                won = int(won) + int(temp)\n",
    "    return won"
   ]
  },
  {
   "cell_type": "code",
   "execution_count": 6,
   "metadata": {
    "collapsed": true
   },
   "outputs": [],
   "source": [
    "# Method to extract Total Awards Nominated\n",
    "def extractTotalAwardsNominations(row):\n",
    "    nominations = 0\n",
    "    if 'nomination' in row['Awards']:\n",
    "        value = row['Awards'].split(' nomination')\n",
    "        nominations = value[0]\n",
    "        if '&' in value[0]:\n",
    "            temp = value[0].split('& ')\n",
    "            nominations = temp[1]\n",
    "            if 'Nominated for ' in value[0]:\n",
    "                val = value[0].split('Nominated for ')\n",
    "                temp = val[1][:2]\n",
    "                nominations = int(nominations) + int(temp)\n",
    "        elif 'Nominated for ' in value[0]:\n",
    "            val = value[0].split('Nominated for ')\n",
    "            temp = val[1][:2]\n",
    "            nom = value[0].split('Another ')\n",
    "            nominations = int(temp) + int(nom[1])\n",
    "        elif 'Another ' in value[0]:\n",
    "            val = value[0].split('Another ')\n",
    "            nominations = val[1]\n",
    "    return nominations"
   ]
  },
  {
   "cell_type": "code",
   "execution_count": 7,
   "metadata": {
    "collapsed": true
   },
   "outputs": [],
   "source": [
    "# Method to extract Golden Globe Awards Nominated\n",
    "def extractGoldenGlobeAwardsNominations(row):\n",
    "    nominations = 0\n",
    "    if 'Nominated for ' in row['Awards']:\n",
    "        value = row['Awards'].split('Nominated for ')\n",
    "        if ' Golden Globe' in value[1]:\n",
    "            nominations = value[1].split(' Golden Globe')[0]\n",
    "    return nominations"
   ]
  },
  {
   "cell_type": "code",
   "execution_count": 8,
   "metadata": {
    "collapsed": true
   },
   "outputs": [],
   "source": [
    "# Method to extract Emmys Awards Nominated\n",
    "def extractEmmysAwardsNominations(row):\n",
    "    nominations = 0\n",
    "    if 'Nominated for ' in row['Awards']:\n",
    "        value = row['Awards'].split('Nominated for ')\n",
    "        if ' Primetime Emmy' in value[1]:\n",
    "            nominations = value[1].split(' Primetime Emmy')[0]\n",
    "    return nominations"
   ]
  },
  {
   "cell_type": "code",
   "execution_count": 9,
   "metadata": {
    "collapsed": true
   },
   "outputs": [],
   "source": [
    "# Method to extract Oscar Awards Nominated\n",
    "def extractOscarAwardsNominations(row):\n",
    "    nominations = 0\n",
    "    if 'Nominated for ' in row['Awards']:\n",
    "        value = row['Awards'].split('Nominated for ')\n",
    "        if ' Oscar' in value[1]:\n",
    "            nominations = value[1].split(' Oscar')[0]\n",
    "    return nominations"
   ]
  },
  {
   "cell_type": "code",
   "execution_count": 10,
   "metadata": {
    "collapsed": true
   },
   "outputs": [],
   "source": [
    "# Method to extract BAFTA Awards Nominated\n",
    "def extractBAFTAAwardsNominations(row):\n",
    "    nominations = 0\n",
    "    if 'Nominated for ' in row['Awards']:\n",
    "        value = row['Awards'].split('Nominated for ')\n",
    "        if ' BAFTA Film Award' in value[1]:\n",
    "            nominations = value[1].split(' BAFTA Film Award')[0]\n",
    "    return nominations"
   ]
  },
  {
   "cell_type": "code",
   "execution_count": 11,
   "metadata": {
    "collapsed": true
   },
   "outputs": [],
   "source": [
    "# Method to extract Golden Globe Awards Won\n",
    "def extractGoldenGlobeAwardsWon(row):\n",
    "    won = 0\n",
    "    if 'Won ' in row['Awards']:\n",
    "        value = row['Awards'].split('Won ')\n",
    "        if ' Golden Globe' in value[1]:\n",
    "            won = value[1].split(' Golden Globe')[0]\n",
    "    return won"
   ]
  },
  {
   "cell_type": "code",
   "execution_count": 12,
   "metadata": {
    "collapsed": true
   },
   "outputs": [],
   "source": [
    "# Method to extract Emmys Awards Won\n",
    "def extractEmmysAwardsWon(row):\n",
    "    won = 0\n",
    "    if 'Won ' in row['Awards']:\n",
    "        value = row['Awards'].split('Won ')\n",
    "        if ' Primetime Emmy' in value[1]:\n",
    "            won = value[1].split(' Primetime Emmy')[0]\n",
    "    return won"
   ]
  },
  {
   "cell_type": "code",
   "execution_count": 13,
   "metadata": {
    "collapsed": true
   },
   "outputs": [],
   "source": [
    "# Method to extract Oscar Awards Won\n",
    "def extractOscarAwardsWon(row):\n",
    "    won = 0\n",
    "    if 'Won ' in row['Awards']:\n",
    "        value = row['Awards'].split('Won ')\n",
    "        if ' Oscar' in value[1]:\n",
    "            won = value[1].split(' Oscar')[0]\n",
    "    return won"
   ]
  },
  {
   "cell_type": "code",
   "execution_count": 14,
   "metadata": {
    "collapsed": true
   },
   "outputs": [],
   "source": [
    "# Method to extract BAFTA Awards Won\n",
    "def extractBAFTAAwardsWon(row):\n",
    "    won = 0\n",
    "    if 'Won ' in row['Awards']:\n",
    "        value = row['Awards'].split('Won ')\n",
    "        if ' BAFTA Film Award' in value[1]:\n",
    "            won = value[1].split(' BAFTA Film Award')[0]\n",
    "    return won"
   ]
  },
  {
   "cell_type": "code",
   "execution_count": 15,
   "metadata": {
    "collapsed": true
   },
   "outputs": [],
   "source": [
    "# Extract Total Awards Won\n",
    "awards_df['Awards_won'] = awards_df.apply(extractTotalAwardsWon, axis = 1)\n",
    "\n",
    "# Extract Total Awards Nominated\n",
    "awards_df['Awards_nominated'] = awards_df.apply(extractTotalAwardsNominations, axis = 1)"
   ]
  },
  {
   "cell_type": "code",
   "execution_count": 16,
   "metadata": {
    "collapsed": true
   },
   "outputs": [],
   "source": [
    "# Extract Primetime Emmys Awards Nominated\n",
    "awards_df['Primetime_Emmys_nominated'] = awards_df.apply(extractEmmysAwardsNominations, axis = 1)\n",
    "\n",
    "# Extract Primetime Emmys Awards Won\n",
    "awards_df['Primetime_Emmys_won'] = awards_df.apply(extractEmmysAwardsWon, axis = 1)"
   ]
  },
  {
   "cell_type": "code",
   "execution_count": 17,
   "metadata": {
    "collapsed": true
   },
   "outputs": [],
   "source": [
    "# Extract Oscar Awards Nominated\n",
    "awards_df['Oscar_nominated'] = awards_df.apply(extractOscarAwardsNominations, axis = 1)\n",
    "\n",
    "# Extract Oscar Awards Won\n",
    "awards_df['Oscar_won'] = awards_df.apply(extractOscarAwardsWon, axis = 1)"
   ]
  },
  {
   "cell_type": "code",
   "execution_count": 18,
   "metadata": {
    "collapsed": true
   },
   "outputs": [],
   "source": [
    "# Extract Golden Globe Awards Nominated\n",
    "awards_df['Golden_Globe_nominated'] = awards_df.apply(extractGoldenGlobeAwardsNominations, axis = 1)\n",
    "\n",
    "# Extract Golden Globe Awards Won\n",
    "awards_df['Golden_Globe_won'] = awards_df.apply(extractGoldenGlobeAwardsWon, axis = 1)"
   ]
  },
  {
   "cell_type": "code",
   "execution_count": 19,
   "metadata": {
    "collapsed": true
   },
   "outputs": [],
   "source": [
    "# Extract BAFTA Awards Nominated\n",
    "awards_df['BAFTA_nominated'] = awards_df.apply(extractBAFTAAwardsNominations, axis = 1)\n",
    "\n",
    "# Extract BAFTA Awards Won\n",
    "awards_df['BAFTA_won'] = awards_df.apply(extractBAFTAAwardsWon, axis = 1)"
   ]
  },
  {
   "cell_type": "code",
   "execution_count": 20,
   "metadata": {
    "collapsed": false
   },
   "outputs": [
    {
     "data": {
      "text/html": [
       "<div>\n",
       "<table border=\"1\" class=\"dataframe\">\n",
       "  <thead>\n",
       "    <tr style=\"text-align: right;\">\n",
       "      <th></th>\n",
       "      <th>Awards</th>\n",
       "      <th>Awards_won</th>\n",
       "      <th>Awards_nominated</th>\n",
       "      <th>Primetime_Emmys_nominated</th>\n",
       "      <th>Primetime_Emmys_won</th>\n",
       "      <th>Oscar_nominated</th>\n",
       "      <th>Oscar_won</th>\n",
       "      <th>Golden_Globe_nominated</th>\n",
       "      <th>Golden_Globe_won</th>\n",
       "      <th>BAFTA_nominated</th>\n",
       "      <th>BAFTA_won</th>\n",
       "    </tr>\n",
       "  </thead>\n",
       "  <tbody>\n",
       "    <tr>\n",
       "      <th>3</th>\n",
       "      <td>1 win &amp; 2 nominations.</td>\n",
       "      <td>1</td>\n",
       "      <td>2</td>\n",
       "      <td>0</td>\n",
       "      <td>0</td>\n",
       "      <td>0</td>\n",
       "      <td>0</td>\n",
       "      <td>0</td>\n",
       "      <td>0</td>\n",
       "      <td>0</td>\n",
       "      <td>0</td>\n",
       "    </tr>\n",
       "    <tr>\n",
       "      <th>4</th>\n",
       "      <td>1 win.</td>\n",
       "      <td>1</td>\n",
       "      <td>0</td>\n",
       "      <td>0</td>\n",
       "      <td>0</td>\n",
       "      <td>0</td>\n",
       "      <td>0</td>\n",
       "      <td>0</td>\n",
       "      <td>0</td>\n",
       "      <td>0</td>\n",
       "      <td>0</td>\n",
       "    </tr>\n",
       "    <tr>\n",
       "      <th>5</th>\n",
       "      <td>1 nomination.</td>\n",
       "      <td>0</td>\n",
       "      <td>1</td>\n",
       "      <td>0</td>\n",
       "      <td>0</td>\n",
       "      <td>0</td>\n",
       "      <td>0</td>\n",
       "      <td>0</td>\n",
       "      <td>0</td>\n",
       "      <td>0</td>\n",
       "      <td>0</td>\n",
       "    </tr>\n",
       "    <tr>\n",
       "      <th>6</th>\n",
       "      <td>3 wins &amp; 2 nominations.</td>\n",
       "      <td>3</td>\n",
       "      <td>2</td>\n",
       "      <td>0</td>\n",
       "      <td>0</td>\n",
       "      <td>0</td>\n",
       "      <td>0</td>\n",
       "      <td>0</td>\n",
       "      <td>0</td>\n",
       "      <td>0</td>\n",
       "      <td>0</td>\n",
       "    </tr>\n",
       "    <tr>\n",
       "      <th>7</th>\n",
       "      <td>1 win &amp; 1 nomination.</td>\n",
       "      <td>1</td>\n",
       "      <td>1</td>\n",
       "      <td>0</td>\n",
       "      <td>0</td>\n",
       "      <td>0</td>\n",
       "      <td>0</td>\n",
       "      <td>0</td>\n",
       "      <td>0</td>\n",
       "      <td>0</td>\n",
       "      <td>0</td>\n",
       "    </tr>\n",
       "  </tbody>\n",
       "</table>\n",
       "</div>"
      ],
      "text/plain": [
       "                    Awards Awards_won Awards_nominated  \\\n",
       "3   1 win & 2 nominations.          1                2   \n",
       "4                   1 win.          1                0   \n",
       "5            1 nomination.          0                1   \n",
       "6  3 wins & 2 nominations.          3                2   \n",
       "7    1 win & 1 nomination.          1                1   \n",
       "\n",
       "  Primetime_Emmys_nominated Primetime_Emmys_won Oscar_nominated Oscar_won  \\\n",
       "3                         0                   0               0         0   \n",
       "4                         0                   0               0         0   \n",
       "5                         0                   0               0         0   \n",
       "6                         0                   0               0         0   \n",
       "7                         0                   0               0         0   \n",
       "\n",
       "  Golden_Globe_nominated Golden_Globe_won BAFTA_nominated  BAFTA_won  \n",
       "3                      0                0               0          0  \n",
       "4                      0                0               0          0  \n",
       "5                      0                0               0          0  \n",
       "6                      0                0               0          0  \n",
       "7                      0                0               0          0  "
      ]
     },
     "execution_count": 20,
     "metadata": {},
     "output_type": "execute_result"
    }
   ],
   "source": [
    "awards_df.head()"
   ]
  },
  {
   "cell_type": "code",
   "execution_count": 21,
   "metadata": {
    "collapsed": true
   },
   "outputs": [],
   "source": [
    "# Generate the file path by joining the directory path and file name for output csv file\n",
    "op_filename = 'q4_part_1.csv'\n",
    "op_file_path = os.path.join(current_dir,'output')\n",
    "\n",
    "# Create output filepath\n",
    "if not os.path.exists(op_file_path):\n",
    "    os.mkdir(op_file_path)\n",
    "\n",
    "# Get the file name\n",
    "file_name = op_filename\n",
    "file_path = os.path.join(op_file_path, file_name)"
   ]
  },
  {
   "cell_type": "code",
   "execution_count": 22,
   "metadata": {
    "collapsed": false
   },
   "outputs": [],
   "source": [
    "#Save file to created output file\n",
    "awards_df.to_csv(file_path,index = False)"
   ]
  },
  {
   "cell_type": "code",
   "execution_count": null,
   "metadata": {
    "collapsed": true
   },
   "outputs": [],
   "source": []
  }
 ],
 "metadata": {
  "kernelspec": {
   "display_name": "Python [default]",
   "language": "python",
   "name": "python3"
  },
  "language_info": {
   "codemirror_mode": {
    "name": "ipython",
    "version": 3
   },
   "file_extension": ".py",
   "mimetype": "text/x-python",
   "name": "python",
   "nbconvert_exporter": "python",
   "pygments_lexer": "ipython3",
   "version": "3.5.2"
  }
 },
 "nbformat": 4,
 "nbformat_minor": 1
}
