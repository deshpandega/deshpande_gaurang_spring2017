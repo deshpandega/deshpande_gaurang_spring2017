{
 "cells": [
  {
   "cell_type": "markdown",
   "metadata": {},
   "source": [
    "# Q2_Part_One\n",
    "\n",
    "#### Employee Compensation Analysis\n",
    "#### Filter by calendar year, Find average salary per employee, average overtime per employee, average total benefit, average total compensation \n",
    "#### Filter out employees with overtime > 0.05 * salary\n",
    "#### For resultant employee's job families, calculate total benefit and total compensation\n",
    "#### Calculate total benefit / total compensation * 100 and add it in new column"
   ]
  },
  {
   "cell_type": "code",
   "execution_count": 1,
   "metadata": {
    "collapsed": true
   },
   "outputs": [],
   "source": [
    "# Import statements\n",
    "from pandas import Series, DataFrame\n",
    "import pandas as pd, numpy as np, os\n",
    "from numpy import nan as NA"
   ]
  },
  {
   "cell_type": "code",
   "execution_count": 2,
   "metadata": {
    "collapsed": true
   },
   "outputs": [],
   "source": [
    "# Take relative path for data\n",
    "current_dir = os.path.dirname('__file__')\n",
    "data_dir = os.path.join(current_dir, 'Data')\n",
    "filename = 'employee_compensation.csv'\n",
    "\n",
    "# Generate the file path by joining the directory path and file name for input csv file\n",
    "file_path = os.path.join(data_dir, filename)"
   ]
  },
  {
   "cell_type": "code",
   "execution_count": 3,
   "metadata": {
    "collapsed": true
   },
   "outputs": [],
   "source": [
    "# Read csv file using pd.read_csv\n",
    "employee_df = pd.read_csv(file_path,sep=',')\n",
    "\n",
    "# Remove unwanted columns\n",
    "employee_df = employee_df.drop(['Year','Organization Group Code','Organization Group','Department Code','Department','Union Code','Union','Job Family Code','Job Code','Job','Other Salaries','Total Salary','Retirement','Health/Dental','Other Benefits'], axis = 1)"
   ]
  },
  {
   "cell_type": "code",
   "execution_count": 4,
   "metadata": {
    "collapsed": false
   },
   "outputs": [],
   "source": [
    "# Sort by Calendar as Year Type\n",
    "employee_df = employee_df[employee_df['Year Type'] != 'Fiscal']\n",
    "\n",
    "# Group By Job Family and Employee ID and take mean of all other salaries columns\n",
    "employee_df = employee_df.groupby(['Job Family','Employee Identifier'], as_index=False).mean()"
   ]
  },
  {
   "cell_type": "code",
   "execution_count": 5,
   "metadata": {
    "collapsed": false
   },
   "outputs": [],
   "source": [
    "# Get all employees whose overtime > 0.05 * Salaries\n",
    "employee_df = employee_df[(employee_df['Overtime'])>(0.05*employee_df['Salaries'])]"
   ]
  },
  {
   "cell_type": "code",
   "execution_count": 6,
   "metadata": {
    "collapsed": false
   },
   "outputs": [],
   "source": [
    "# Removing the unwanted columns going forward\n",
    "employee_df = employee_df.drop(['Employee Identifier','Salaries','Overtime'], axis = 1)"
   ]
  },
  {
   "cell_type": "code",
   "execution_count": 7,
   "metadata": {
    "collapsed": false
   },
   "outputs": [],
   "source": [
    "# Group by Job Family and take mean of total benefit and total compensation\n",
    "employee_df = employee_df.groupby(['Job Family'], as_index=False).mean()"
   ]
  },
  {
   "cell_type": "code",
   "execution_count": 8,
   "metadata": {
    "collapsed": false
   },
   "outputs": [],
   "source": [
    "# Generate new column for Percent_Total_Benefit\n",
    "employee_df['Percent_Total_Benefit'] = employee_df['Total Benefits']/employee_df['Total Compensation']*100"
   ]
  },
  {
   "cell_type": "code",
   "execution_count": 9,
   "metadata": {
    "collapsed": false
   },
   "outputs": [
    {
     "data": {
      "text/html": [
       "<div>\n",
       "<table border=\"1\" class=\"dataframe\">\n",
       "  <thead>\n",
       "    <tr style=\"text-align: right;\">\n",
       "      <th></th>\n",
       "      <th>Job Family</th>\n",
       "      <th>Total Benefits</th>\n",
       "      <th>Total Compensation</th>\n",
       "      <th>Percent_Total_Benefit</th>\n",
       "    </tr>\n",
       "  </thead>\n",
       "  <tbody>\n",
       "    <tr>\n",
       "      <th>0</th>\n",
       "      <td>Administrative-Labor &amp; Trades</td>\n",
       "      <td>35398.450119</td>\n",
       "      <td>162831.632560</td>\n",
       "      <td>21.739296</td>\n",
       "    </tr>\n",
       "    <tr>\n",
       "      <th>1</th>\n",
       "      <td>Agriculture &amp; Horticulture</td>\n",
       "      <td>27886.590323</td>\n",
       "      <td>94075.711769</td>\n",
       "      <td>29.642710</td>\n",
       "    </tr>\n",
       "    <tr>\n",
       "      <th>2</th>\n",
       "      <td>Airport Operation</td>\n",
       "      <td>33661.152255</td>\n",
       "      <td>122059.011671</td>\n",
       "      <td>27.577769</td>\n",
       "    </tr>\n",
       "    <tr>\n",
       "      <th>3</th>\n",
       "      <td>Budget, Admn &amp; Stats Analysis</td>\n",
       "      <td>22721.521375</td>\n",
       "      <td>79834.029938</td>\n",
       "      <td>28.460948</td>\n",
       "    </tr>\n",
       "    <tr>\n",
       "      <th>4</th>\n",
       "      <td>Clerical, Secretarial &amp; Steno</td>\n",
       "      <td>7166.984747</td>\n",
       "      <td>24424.693281</td>\n",
       "      <td>29.343192</td>\n",
       "    </tr>\n",
       "  </tbody>\n",
       "</table>\n",
       "</div>"
      ],
      "text/plain": [
       "                      Job Family  Total Benefits  Total Compensation  \\\n",
       "0  Administrative-Labor & Trades    35398.450119       162831.632560   \n",
       "1     Agriculture & Horticulture    27886.590323        94075.711769   \n",
       "2              Airport Operation    33661.152255       122059.011671   \n",
       "3  Budget, Admn & Stats Analysis    22721.521375        79834.029938   \n",
       "4  Clerical, Secretarial & Steno     7166.984747        24424.693281   \n",
       "\n",
       "   Percent_Total_Benefit  \n",
       "0              21.739296  \n",
       "1              29.642710  \n",
       "2              27.577769  \n",
       "3              28.460948  \n",
       "4              29.343192  "
      ]
     },
     "execution_count": 9,
     "metadata": {},
     "output_type": "execute_result"
    }
   ],
   "source": [
    "# Display the result\n",
    "employee_df.head()"
   ]
  },
  {
   "cell_type": "code",
   "execution_count": 10,
   "metadata": {
    "collapsed": true
   },
   "outputs": [],
   "source": [
    "# Generate the file path by joining the directory path and file name for output csv file\n",
    "op_filename = 'q2_part_2.csv'\n",
    "op_file_path = os.path.join(current_dir,'output')\n",
    "\n",
    "# Create output filepath\n",
    "if not os.path.exists(op_file_path):\n",
    "    os.mkdir(op_file_path)\n",
    "\n",
    "# Get the file name\n",
    "file_name = op_filename\n",
    "file_path = os.path.join(op_file_path, file_name)"
   ]
  },
  {
   "cell_type": "code",
   "execution_count": 12,
   "metadata": {
    "collapsed": false
   },
   "outputs": [],
   "source": [
    "#Save file to created output file\n",
    "employee_df.to_csv(file_path,index = False)"
   ]
  },
  {
   "cell_type": "code",
   "execution_count": null,
   "metadata": {
    "collapsed": true
   },
   "outputs": [],
   "source": []
  }
 ],
 "metadata": {
  "kernelspec": {
   "display_name": "Python [default]",
   "language": "python",
   "name": "python3"
  },
  "language_info": {
   "codemirror_mode": {
    "name": "ipython",
    "version": 3
   },
   "file_extension": ".py",
   "mimetype": "text/x-python",
   "name": "python",
   "nbconvert_exporter": "python",
   "pygments_lexer": "ipython3",
   "version": "3.5.2"
  }
 },
 "nbformat": 4,
 "nbformat_minor": 1
}
