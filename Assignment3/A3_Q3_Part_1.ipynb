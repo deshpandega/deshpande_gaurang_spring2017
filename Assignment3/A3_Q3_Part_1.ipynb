{
 "cells": [
  {
   "cell_type": "markdown",
   "metadata": {},
   "source": [
    "# Q2_Part_One\n",
    "\n",
    "#### Cricket Matches Analysis\n",
    "#### Calculate Average score for each team which host and wins a match \n",
    "#### Check which innings the host played and use the host team's innings score for calculation"
   ]
  },
  {
   "cell_type": "code",
   "execution_count": 1,
   "metadata": {
    "collapsed": true
   },
   "outputs": [],
   "source": [
    "# Import statements\n",
    "from pandas import Series, DataFrame\n",
    "import pandas as pd, numpy as np, os\n",
    "from numpy import nan as NA"
   ]
  },
  {
   "cell_type": "code",
   "execution_count": 2,
   "metadata": {
    "collapsed": true
   },
   "outputs": [],
   "source": [
    "# Take relative path for data\n",
    "current_dir = os.path.dirname('__file__')\n",
    "data_dir = os.path.join(current_dir, 'Data')\n",
    "filename = 'cricket_matches.csv'\n",
    "\n",
    "# Generate the file path by joining the directory path and file name for input csv file\n",
    "file_path = os.path.join(data_dir, filename)"
   ]
  },
  {
   "cell_type": "code",
   "execution_count": 3,
   "metadata": {
    "collapsed": false
   },
   "outputs": [],
   "source": [
    "# Read csv file using pd.read_csv\n",
    "cricket_df = pd.read_csv(file_path,sep=',')\n",
    "cricket_df\n",
    "\n",
    "# Remove unwanted columns\n",
    "cricket_df = cricket_df.drop(['match_details','result','scores','date','venue','round','away','win_by_runs','win_by_wickets','balls_remaining','innings1_wickets','innings1_overs_batted','innings1_overs','innings2_wickets','innings2_overs_batted','innings2_overs','D/L_method','target'], axis = 1)"
   ]
  },
  {
   "cell_type": "code",
   "execution_count": 4,
   "metadata": {
    "collapsed": false
   },
   "outputs": [],
   "source": [
    "# Remove unwanted results\n",
    "# Match abandoned without a ball bowled # No result (abandoned with a toss) # No result # Match cancelled without a ball bowled # # Match abandoned without a ball bowled # No result (abandoned with a toss) # No result # Match cancelled without a ball bowled # Match scheduled to begin at 13:00 local time (09:00 GMT)\n",
    "\n",
    "cricket_df = cricket_df[(cricket_df['winner']!=\"Match abandoned without a ball bowled\")&(cricket_df['winner']!=\"No result (abandoned with a toss)\")&(cricket_df['winner']!=\"No result\")&(cricket_df['winner']!=np.NaN)&(cricket_df['winner']!=\"Match cancelled without a ball bowled\")&(cricket_df['winner']!=\"Match scheduled to begin at 13:00 local time (09:00 GMT)\")]"
   ]
  },
  {
   "cell_type": "code",
   "execution_count": 5,
   "metadata": {
    "collapsed": false
   },
   "outputs": [],
   "source": [
    "# Remove all indices where winner is not home team\n",
    "cricket_df = cricket_df[cricket_df['home']==cricket_df['winner']]"
   ]
  },
  {
   "cell_type": "code",
   "execution_count": 6,
   "metadata": {
    "collapsed": false
   },
   "outputs": [],
   "source": [
    "# Create a data frame with home team and innings1 runs if home team played in inning 1\n",
    "inn1_df = cricket_df.query('home==innings1')[['home','innings1_runs']]"
   ]
  },
  {
   "cell_type": "code",
   "execution_count": 7,
   "metadata": {
    "collapsed": false
   },
   "outputs": [],
   "source": [
    "# Create a data frame with home team and innings2 runs if home team played in inning 2\n",
    "inn2_df = cricket_df.query('home==innings2')[['home','innings2_runs']]"
   ]
  },
  {
   "cell_type": "code",
   "execution_count": 8,
   "metadata": {
    "collapsed": false
   },
   "outputs": [],
   "source": [
    "# Rename the column containing runs to score in both data frames\n",
    "inn1_df.columns.values[1]=\"score\"\n",
    "inn2_df.columns.values[1]=\"score\""
   ]
  },
  {
   "cell_type": "code",
   "execution_count": 9,
   "metadata": {
    "collapsed": false
   },
   "outputs": [],
   "source": [
    "# Concatinate both data frames to create single final dataframe\n",
    "final = pd.concat([inn1_df,inn2_df])\n",
    "\n",
    "# Groupby home team and average for their scores \n",
    "final = final.groupby(['home'], as_index=False).mean()"
   ]
  },
  {
   "cell_type": "code",
   "execution_count": 10,
   "metadata": {
    "collapsed": false
   },
   "outputs": [
    {
     "data": {
      "text/html": [
       "<div>\n",
       "<table border=\"1\" class=\"dataframe\">\n",
       "  <thead>\n",
       "    <tr style=\"text-align: right;\">\n",
       "      <th></th>\n",
       "      <th>home</th>\n",
       "      <th>score</th>\n",
       "    </tr>\n",
       "  </thead>\n",
       "  <tbody>\n",
       "    <tr>\n",
       "      <th>0</th>\n",
       "      <td>Abahani Limited</td>\n",
       "      <td>172.000000</td>\n",
       "    </tr>\n",
       "    <tr>\n",
       "      <th>1</th>\n",
       "      <td>Abbottabad Falcons</td>\n",
       "      <td>139.454545</td>\n",
       "    </tr>\n",
       "    <tr>\n",
       "      <th>2</th>\n",
       "      <td>Abbottabad Region</td>\n",
       "      <td>182.666667</td>\n",
       "    </tr>\n",
       "    <tr>\n",
       "      <th>3</th>\n",
       "      <td>Abbottabad Rhinos</td>\n",
       "      <td>165.000000</td>\n",
       "    </tr>\n",
       "    <tr>\n",
       "      <th>4</th>\n",
       "      <td>Adelaide Strikers</td>\n",
       "      <td>163.111111</td>\n",
       "    </tr>\n",
       "  </tbody>\n",
       "</table>\n",
       "</div>"
      ],
      "text/plain": [
       "                 home       score\n",
       "0     Abahani Limited  172.000000\n",
       "1  Abbottabad Falcons  139.454545\n",
       "2   Abbottabad Region  182.666667\n",
       "3   Abbottabad Rhinos  165.000000\n",
       "4   Adelaide Strikers  163.111111"
      ]
     },
     "execution_count": 10,
     "metadata": {},
     "output_type": "execute_result"
    }
   ],
   "source": [
    "# Display result\n",
    "final.head()"
   ]
  },
  {
   "cell_type": "code",
   "execution_count": 11,
   "metadata": {
    "collapsed": true
   },
   "outputs": [],
   "source": [
    "# Generate the file path by joining the directory path and file name for output csv file\n",
    "op_filename = 'q3_part_1.csv'\n",
    "op_file_path = os.path.join(current_dir,'output')\n",
    "\n",
    "# Create output filepath\n",
    "if not os.path.exists(op_file_path):\n",
    "    os.mkdir(op_file_path)\n",
    "\n",
    "# Get the file name\n",
    "file_name = op_filename\n",
    "file_path = os.path.join(op_file_path, file_name)"
   ]
  },
  {
   "cell_type": "code",
   "execution_count": 12,
   "metadata": {
    "collapsed": true
   },
   "outputs": [],
   "source": [
    "#Save file to created output file\n",
    "final.to_csv(file_path,index = False)"
   ]
  },
  {
   "cell_type": "code",
   "execution_count": null,
   "metadata": {
    "collapsed": true
   },
   "outputs": [],
   "source": []
  }
 ],
 "metadata": {
  "anaconda-cloud": {},
  "kernelspec": {
   "display_name": "Python [default]",
   "language": "python",
   "name": "python3"
  },
  "language_info": {
   "codemirror_mode": {
    "name": "ipython",
    "version": 3
   },
   "file_extension": ".py",
   "mimetype": "text/x-python",
   "name": "python",
   "nbconvert_exporter": "python",
   "pygments_lexer": "ipython3",
   "version": "3.5.2"
  }
 },
 "nbformat": 4,
 "nbformat_minor": 1
}
