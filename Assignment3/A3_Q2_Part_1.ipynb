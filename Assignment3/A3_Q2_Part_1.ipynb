{
 "cells": [
  {
   "cell_type": "markdown",
   "metadata": {},
   "source": [
    "# Q2_Part_One\n",
    "\n",
    "#### Employee Compensation Analysis\n",
    "#### Find highest paid department in each organization group by  calculating mean of total compensation for each department\n",
    "#### Organization > Department > highest to lowest compensation"
   ]
  },
  {
   "cell_type": "code",
   "execution_count": 1,
   "metadata": {
    "collapsed": true
   },
   "outputs": [],
   "source": [
    "# Import statements\n",
    "from pandas import Series, DataFrame\n",
    "import pandas as pd, numpy as np, os\n",
    "from numpy import nan as NA"
   ]
  },
  {
   "cell_type": "code",
   "execution_count": 2,
   "metadata": {
    "collapsed": true
   },
   "outputs": [],
   "source": [
    "# Take relative path for data\n",
    "current_dir = os.path.dirname('__file__')\n",
    "data_dir = os.path.join(current_dir, 'Data')\n",
    "filename = 'employee_compensation.csv'\n",
    "\n",
    "# Generate the file path by joining the directory path and file name for input csv file\n",
    "file_path = os.path.join(data_dir, filename)"
   ]
  },
  {
   "cell_type": "code",
   "execution_count": 3,
   "metadata": {
    "collapsed": true
   },
   "outputs": [],
   "source": [
    "# Read csv file using pd.read_csv\n",
    "employee_df = pd.read_csv(file_path,sep=',')\n",
    "\n",
    "# Remove unwanted columns\n",
    "employee_df = employee_df.drop(['Year Type','Year','Organization Group Code','Department Code','Union Code','Union','Job Family Code','Job Family','Job Code','Job','Employee Identifier','Salaries','Overtime','Other Salaries','Total Salary','Retirement','Health/Dental','Other Benefits','Total Benefits'], axis = 1)"
   ]
  },
  {
   "cell_type": "code",
   "execution_count": 4,
   "metadata": {
    "collapsed": false
   },
   "outputs": [],
   "source": [
    "# Group by columns and calculate the mean of total compensation\n",
    "final = employee_df.groupby(['Organization Group','Department'],as_index=False).mean()"
   ]
  },
  {
   "cell_type": "code",
   "execution_count": 5,
   "metadata": {
    "collapsed": false
   },
   "outputs": [],
   "source": [
    "# Sort by Org and then Total Compensation and then department\n",
    "final = final.sort_values(by=['Organization Group','Total Compensation','Department'],ascending=False)"
   ]
  },
  {
   "cell_type": "code",
   "execution_count": 6,
   "metadata": {
    "collapsed": false
   },
   "outputs": [
    {
     "data": {
      "text/html": [
       "<div>\n",
       "<table border=\"1\" class=\"dataframe\">\n",
       "  <thead>\n",
       "    <tr style=\"text-align: right;\">\n",
       "      <th></th>\n",
       "      <th>Organization Group</th>\n",
       "      <th>Department</th>\n",
       "      <th>Total Compensation</th>\n",
       "    </tr>\n",
       "  </thead>\n",
       "  <tbody>\n",
       "    <tr>\n",
       "      <th>55</th>\n",
       "      <td>Public Works, Transportation &amp; Commerce</td>\n",
       "      <td>Port</td>\n",
       "      <td>112139.680017</td>\n",
       "    </tr>\n",
       "    <tr>\n",
       "      <th>46</th>\n",
       "      <td>Public Works, Transportation &amp; Commerce</td>\n",
       "      <td>Department of Building Inspection</td>\n",
       "      <td>112051.615182</td>\n",
       "    </tr>\n",
       "    <tr>\n",
       "      <th>54</th>\n",
       "      <td>Public Works, Transportation &amp; Commerce</td>\n",
       "      <td>PUC Water Department</td>\n",
       "      <td>109806.587567</td>\n",
       "    </tr>\n",
       "    <tr>\n",
       "      <th>53</th>\n",
       "      <td>Public Works, Transportation &amp; Commerce</td>\n",
       "      <td>PUC Wastewater Enterprise</td>\n",
       "      <td>108963.589786</td>\n",
       "    </tr>\n",
       "    <tr>\n",
       "      <th>47</th>\n",
       "      <td>Public Works, Transportation &amp; Commerce</td>\n",
       "      <td>Economic and Workforce Development</td>\n",
       "      <td>106112.409432</td>\n",
       "    </tr>\n",
       "  </tbody>\n",
       "</table>\n",
       "</div>"
      ],
      "text/plain": [
       "                         Organization Group  \\\n",
       "55  Public Works, Transportation & Commerce   \n",
       "46  Public Works, Transportation & Commerce   \n",
       "54  Public Works, Transportation & Commerce   \n",
       "53  Public Works, Transportation & Commerce   \n",
       "47  Public Works, Transportation & Commerce   \n",
       "\n",
       "                            Department  Total Compensation  \n",
       "55                                Port       112139.680017  \n",
       "46   Department of Building Inspection       112051.615182  \n",
       "54                PUC Water Department       109806.587567  \n",
       "53           PUC Wastewater Enterprise       108963.589786  \n",
       "47  Economic and Workforce Development       106112.409432  "
      ]
     },
     "execution_count": 6,
     "metadata": {},
     "output_type": "execute_result"
    }
   ],
   "source": [
    "final.head()"
   ]
  },
  {
   "cell_type": "code",
   "execution_count": 7,
   "metadata": {
    "collapsed": true
   },
   "outputs": [],
   "source": [
    "# Generate the file path by joining the directory path and file name for output csv file\n",
    "op_filename = 'q2_part_1.csv'\n",
    "op_file_path = os.path.join(current_dir,'output')\n",
    "\n",
    "# Create output filepath\n",
    "if not os.path.exists(op_file_path):\n",
    "    os.mkdir(op_file_path)\n",
    "\n",
    "# Get the file name\n",
    "file_name = op_filename\n",
    "file_path = os.path.join(op_file_path, file_name)"
   ]
  },
  {
   "cell_type": "code",
   "execution_count": 8,
   "metadata": {
    "collapsed": true
   },
   "outputs": [],
   "source": [
    "#Save file to created output file\n",
    "final.to_csv(file_path,index = False)"
   ]
  },
  {
   "cell_type": "code",
   "execution_count": null,
   "metadata": {
    "collapsed": true
   },
   "outputs": [],
   "source": []
  }
 ],
 "metadata": {
  "kernelspec": {
   "display_name": "Python [default]",
   "language": "python",
   "name": "python3"
  },
  "language_info": {
   "codemirror_mode": {
    "name": "ipython",
    "version": 3
   },
   "file_extension": ".py",
   "mimetype": "text/x-python",
   "name": "python",
   "nbconvert_exporter": "python",
   "pygments_lexer": "ipython3",
   "version": "3.5.2"
  }
 },
 "nbformat": 4,
 "nbformat_minor": 1
}
