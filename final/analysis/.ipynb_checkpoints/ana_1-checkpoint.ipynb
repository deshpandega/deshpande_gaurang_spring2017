{
 "cells": [
  {
   "cell_type": "markdown",
   "metadata": {},
   "source": [
    "# Analysis 1\n",
    "\n",
    "#### Find the highest contributing players\n",
    "#### Goals scored by a player to total goals scored by his entire team\n",
    "#### Find the top 20 contributors for the league\n",
    "#### This analysis gives insight of which team is dependent on which of their players for goals"
   ]
  },
  {
   "cell_type": "code",
   "execution_count": 417,
   "metadata": {
    "collapsed": true
   },
   "outputs": [],
   "source": [
    "#Import statements\n",
    "import json, os, glob, matplotlib as mpl, matplotlib.pyplot as plt, seaborn as sns, pandas as pd, numpy as np, itertools\n",
    "import matplotlib.patches as mpatches\n",
    "from datetime import datetime\n",
    "from pandas import DataFrame"
   ]
  },
  {
   "cell_type": "code",
   "execution_count": 418,
   "metadata": {
    "collapsed": true
   },
   "outputs": [],
   "source": [
    "#Get data directory as a relative path for all 3 required fetched responses\n",
    "current_dir = os.path.dirname('__file__')\n",
    "data_dir = os.path.join(current_dir, '..', 'data','playerstats','*.json')\n",
    "teams_dir = os.path.join(current_dir, '..', 'data','teams','*.json')\n",
    "matches_dir = os.path.join(current_dir, '..', 'data','eventsseason','*.json')"
   ]
  },
  {
   "cell_type": "code",
   "execution_count": 419,
   "metadata": {
    "collapsed": true
   },
   "outputs": [],
   "source": [
    "# Get the list of all teams in EPL with their team id and team name \n",
    "for team_file_name in glob.glob(teams_dir):\n",
    "    with open(team_file_name) as team_file_name:\n",
    "        teams_df = pd.read_json(team_file_name, orient='columns')\n",
    "        teams_df = teams_df.drop(['shortCode','name','defaultHomeVenue','isNational','shirtUrl','showAssistStats','showCardStats','showGoalStats','showLeagueTables'], axis = 1)\n",
    "        "
   ]
  },
  {
   "cell_type": "code",
   "execution_count": 420,
   "metadata": {
    "collapsed": true
   },
   "outputs": [],
   "source": [
    "# Get the list of all events/matches and store in a variable\n",
    "for filename in glob.glob(matches_dir):\n",
    "    with open(filename) as fil:\n",
    "        file = json.load(fil)"
   ]
  },
  {
   "cell_type": "code",
   "execution_count": 421,
   "metadata": {
    "collapsed": false
   },
   "outputs": [],
   "source": [
    "# Clean the data so that it matches with the data from other api \n",
    "teams_df=teams_df.set_value(2, 'shortName', 'Man United')\n",
    "teams_df=teams_df.set_value(8, 'shortName', 'Middlesbrough')\n",
    "teams_df=teams_df.set_value(14, 'shortName', 'Crystal Palace')\n",
    "teams = teams_df.to_dict(orient='records')"
   ]
  },
  {
   "cell_type": "code",
   "execution_count": 422,
   "metadata": {
    "collapsed": false
   },
   "outputs": [],
   "source": [
    "# Generate the data frame\n",
    "all_players = []\n",
    "all_player_goals = []\n",
    "all_team_goals = []\n",
    "all_teams = []\n",
    "\n",
    "for filename in glob.glob(data_dir):\n",
    "    with open(filename) as fil:\n",
    "        current_file= json.load(fil)\n",
    "    \n",
    "        # \n",
    "        team_id = filename.split('playerstats_response')[1].split('.json')[0]\n",
    "        team_name = [team['shortName'] for team in teams if team['dbid'] == int(team_id)][0]\n",
    "        \n",
    "        # \n",
    "        players = [player['shortName'] for player in current_file]\n",
    "        all_players.extend(players)\n",
    "        \n",
    "        # \n",
    "        goals = [player['playerstats'][0]['goals'] for player in current_file]\n",
    "        all_player_goals.extend(goals)\n",
    "        \n",
    "        # \n",
    "        goals_scored_home = [int(event['intHomeScore']) for event in file['events'] if event['strHomeTeam']==team_name and event['intHomeScore']!=None]\n",
    "        goals_scored_away = [int(event['intAwayScore']) for event in file['events'] if event['strAwayTeam']==team_name and event['intAwayScore']!=None]\n",
    "        total_goals_scored=sum(goals_scored_away)+sum(goals_scored_home)\n",
    "        for val in goals:\n",
    "            all_team_goals.append(total_goals_scored)\n",
    "            all_teams.append(team_name)"
   ]
  },
  {
   "cell_type": "code",
   "execution_count": 423,
   "metadata": {
    "collapsed": false
   },
   "outputs": [],
   "source": [
    "# Generate DataFrame\n",
    "df = DataFrame({'player' :all_players, 'goals': all_player_goals})\n",
    "df['teamGoals'] = all_team_goals\n",
    "df['teamname'] = all_teams\n",
    "df['percentContribution'] = round(df['goals']/df['teamGoals']*100, 2)\n",
    "\n",
    "# Remove players who has not scored\n",
    "df.drop(df[df['goals'] == 0].index, inplace=True)"
   ]
  },
  {
   "cell_type": "code",
   "execution_count": 424,
   "metadata": {
    "collapsed": false
   },
   "outputs": [],
   "source": [
    "# Sort in descending order or contribution and goals\n",
    "df = df.sort_values(by=['percentContribution','goals'],ascending=False)"
   ]
  },
  {
   "cell_type": "code",
   "execution_count": 425,
   "metadata": {
    "collapsed": false
   },
   "outputs": [
    {
     "data": {
      "text/html": [
       "<div>\n",
       "<table border=\"1\" class=\"dataframe\">\n",
       "  <thead>\n",
       "    <tr style=\"text-align: right;\">\n",
       "      <th></th>\n",
       "      <th>goals</th>\n",
       "      <th>player</th>\n",
       "      <th>teamGoals</th>\n",
       "      <th>teamname</th>\n",
       "      <th>percentContribution</th>\n",
       "    </tr>\n",
       "  </thead>\n",
       "  <tbody>\n",
       "    <tr>\n",
       "      <th>319</th>\n",
       "      <td>14</td>\n",
       "      <td>Defoe</td>\n",
       "      <td>26</td>\n",
       "      <td>Sunderland</td>\n",
       "      <td>53.85</td>\n",
       "    </tr>\n",
       "    <tr>\n",
       "      <th>15</th>\n",
       "      <td>24</td>\n",
       "      <td>Lukaku</td>\n",
       "      <td>60</td>\n",
       "      <td>Everton</td>\n",
       "      <td>40.00</td>\n",
       "    </tr>\n",
       "    <tr>\n",
       "      <th>101</th>\n",
       "      <td>17</td>\n",
       "      <td>Ibrahimović</td>\n",
       "      <td>48</td>\n",
       "      <td>Man United</td>\n",
       "      <td>35.42</td>\n",
       "    </tr>\n",
       "    <tr>\n",
       "      <th>242</th>\n",
       "      <td>8</td>\n",
       "      <td>Negredo</td>\n",
       "      <td>23</td>\n",
       "      <td>Middlesbrough</td>\n",
       "      <td>34.78</td>\n",
       "    </tr>\n",
       "    <tr>\n",
       "      <th>83</th>\n",
       "      <td>19</td>\n",
       "      <td>Sánchez</td>\n",
       "      <td>63</td>\n",
       "      <td>Arsenal</td>\n",
       "      <td>30.16</td>\n",
       "    </tr>\n",
       "    <tr>\n",
       "      <th>65</th>\n",
       "      <td>11</td>\n",
       "      <td>Llorente</td>\n",
       "      <td>37</td>\n",
       "      <td>Swansea</td>\n",
       "      <td>29.73</td>\n",
       "    </tr>\n",
       "    <tr>\n",
       "      <th>36</th>\n",
       "      <td>20</td>\n",
       "      <td>Kane</td>\n",
       "      <td>68</td>\n",
       "      <td>Tottenham</td>\n",
       "      <td>29.41</td>\n",
       "    </tr>\n",
       "    <tr>\n",
       "      <th>257</th>\n",
       "      <td>13</td>\n",
       "      <td>King</td>\n",
       "      <td>45</td>\n",
       "      <td>Bournemouth</td>\n",
       "      <td>28.89</td>\n",
       "    </tr>\n",
       "    <tr>\n",
       "      <th>154</th>\n",
       "      <td>12</td>\n",
       "      <td>Benteke</td>\n",
       "      <td>44</td>\n",
       "      <td>Crystal Palace</td>\n",
       "      <td>27.27</td>\n",
       "    </tr>\n",
       "    <tr>\n",
       "      <th>223</th>\n",
       "      <td>10</td>\n",
       "      <td>Deeney</td>\n",
       "      <td>37</td>\n",
       "      <td>Watford</td>\n",
       "      <td>27.03</td>\n",
       "    </tr>\n",
       "  </tbody>\n",
       "</table>\n",
       "</div>"
      ],
      "text/plain": [
       "     goals       player  teamGoals        teamname  percentContribution\n",
       "319     14        Defoe         26      Sunderland                53.85\n",
       "15      24       Lukaku         60         Everton                40.00\n",
       "101     17  Ibrahimović         48      Man United                35.42\n",
       "242      8      Negredo         23   Middlesbrough                34.78\n",
       "83      19      Sánchez         63         Arsenal                30.16\n",
       "65      11     Llorente         37         Swansea                29.73\n",
       "36      20         Kane         68       Tottenham                29.41\n",
       "257     13         King         45     Bournemouth                28.89\n",
       "154     12      Benteke         44  Crystal Palace                27.27\n",
       "223     10       Deeney         37         Watford                27.03"
      ]
     },
     "execution_count": 425,
     "metadata": {},
     "output_type": "execute_result"
    }
   ],
   "source": [
    "# Get the top ten to plot\n",
    "player_contri_df=df.head(10)\n",
    "player_contri_df"
   ]
  },
  {
   "cell_type": "code",
   "execution_count": 426,
   "metadata": {
    "collapsed": false
   },
   "outputs": [
    {
     "data": {
      "image/png": "[encoded data removed]",
      "text/plain": [
       "<matplotlib.figure.Figure at 0x1d0c8da5ef0>"
      ]
     },
     "metadata": {},
     "output_type": "display_data"
    }
   ],
   "source": [
    "# Plot the top 10 players with their contributions\n",
    "sns.set_style(\"whitegrid\")\n",
    "\n",
    "# 2 bar plots to generate team scores and player contribution in same plot\n",
    "fig = plt.figure(figsize=(10,5))\n",
    "bx = sns.barplot(x='player', y='teamGoals', data=player_contri_df, color='#EE7600')\n",
    "bx = sns.barplot(x='player', y='goals', data=player_contri_df, color='g')\n",
    "\n",
    "# To generate custom legends\n",
    "team = mpatches.Patch(color='orange', label='Team Goals')\n",
    "player = mpatches.Patch(color='green', label='Player Contribution')\n",
    "\n",
    "# Beautify plot\n",
    "bx.legend(handles=[team, player], bbox_to_anchor=(1.05, 1), loc=2)\n",
    "plt.suptitle('Top Contributors of EPL')\n",
    "bx.set(xlabel='Players', ylabel='Goals Scored')\n",
    "\n",
    "plt.show()"
   ]
  },
  {
   "cell_type": "code",
   "execution_count": 427,
   "metadata": {
    "collapsed": false
   },
   "outputs": [],
   "source": [
    "#Function to create output data folder\n",
    "def create_directory_for_output():\n",
    "    current_dir = os.path.dirname('__file__')\n",
    "    data_folder = os.path.join(current_dir, 'ana_1')\n",
    "    if not os.path.exists(data_folder):\n",
    "        os.mkdir(data_folder)\n",
    "    return data_folder\n",
    "\n",
    "output_folder=create_directory_for_output()\n",
    "\n",
    "#csv file name and path\n",
    "file_name = 'biggest_contributors'\n",
    "file_path = os.path.join(output_folder, file_name)\n",
    "file_path+='.csv'\n",
    "\n",
    "#Save file to created output file\n",
    "df.to_csv(file_path,index = False)"
   ]
  },
  {
   "cell_type": "code",
   "execution_count": 428,
   "metadata": {
    "collapsed": false
   },
   "outputs": [],
   "source": [
    "# File name\n",
    "plot_name = 'biggest_contributors'\n",
    "plot_path = os.path.join(output_folder, plot_name)\n",
    "plot_path+='.png'\n",
    "\n",
    "#Save the plot\n",
    "fig.savefig(plot_path, bbox_inches='tight')   # save the figure to file"
   ]
  },
  {
   "cell_type": "code",
   "execution_count": null,
   "metadata": {
    "collapsed": true
   },
   "outputs": [],
   "source": []
  }
 ],
 "metadata": {
  "anaconda-cloud": {},
  "kernelspec": {
   "display_name": "Python [default]",
   "language": "python",
   "name": "python3"
  },
  "language_info": {
   "codemirror_mode": {
    "name": "ipython",
    "version": 3
   },
   "file_extension": ".py",
   "mimetype": "text/x-python",
   "name": "python",
   "nbconvert_exporter": "python",
   "pygments_lexer": "ipython3",
   "version": "3.5.2"
  }
 },
 "nbformat": 4,
 "nbformat_minor": 1
}
