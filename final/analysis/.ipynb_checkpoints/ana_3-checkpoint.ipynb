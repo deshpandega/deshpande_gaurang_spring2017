{
 "cells": [
  {
   "cell_type": "markdown",
   "metadata": {},
   "source": [
    "# Analysis 3\n",
    "\n",
    "#### Find the top 10 best forwards/midfielders/defenders/goal keepers of premier league according to:\n",
    "##### goals_scored, assists,  yellow_card, red_card, penalties_missed, penalties_saved, saves, own_goals, goals_conceded, clean_sheets\n",
    "#### Each +goal, +assist, +penalties saved, +saves, +clean sheets will give positive score where as each -yellow card, -red card, -penalties missed, -own goal, -goal conceded will give negative score\n",
    "#### Calculate score and appearances for each player and find the final rating for each player\n",
    "#### This analysis gives insight of which is the best forward/midfielder and best behaved player of premier league"
   ]
  },
  {
   "cell_type": "markdown",
   "metadata": {},
   "source": [
    "####### player, goals +3, assists +1, penalties saved +3, saves +1, clean sheets +0.5, yellow -0.5, red -1, penalties missed -3, own goal -3, goal conceded -1, minutes played, score, performance = score/minutes played"
   ]
  },
  {
   "cell_type": "code",
   "execution_count": null,
   "metadata": {
    "collapsed": true
   },
   "outputs": [],
   "source": [
    "#Import statements\n",
    "import json, os, glob, matplotlib as mpl, matplotlib.pyplot as plt, seaborn as sns, pandas as pd, numpy as np, itertools\n",
    "import matplotlib.patches as mpatches\n",
    "from datetime import datetime\n",
    "from pandas import DataFrame"
   ]
  },
  {
   "cell_type": "code",
   "execution_count": 42,
   "metadata": {
    "collapsed": true
   },
   "outputs": [],
   "source": [
    "#Get data directory as a relative path for all 3 required fetched responses\n",
    "current_dir = os.path.dirname('__file__')\n",
    "data_dir = os.path.join(current_dir, '..', 'data','fpl','*.json')"
   ]
  },
  {
   "cell_type": "code",
   "execution_count": 53,
   "metadata": {
    "collapsed": false
   },
   "outputs": [],
   "source": [
    "# The lists to hold data for each player \n",
    "players = []\n",
    "team_id = []\n",
    "goals = []\n",
    "assists = []\n",
    "penalties_saved = []\n",
    "saves = []\n",
    "clean_sheets = []\n",
    "yellow_cards = []\n",
    "red_cards = []\n",
    "penalties_missed = []\n",
    "own_goals = []\n",
    "goal_conceded = []\n",
    "minutes_played = []\n",
    "teams = []"
   ]
  },
  {
   "cell_type": "code",
   "execution_count": 1,
   "metadata": {
    "collapsed": false
   },
   "outputs": [
    {
     "ename": "NameError",
     "evalue": "name 'glob' is not defined",
     "output_type": "error",
     "traceback": [
      "\u001b[0;31m---------------------------------------------------------------------------\u001b[0m",
      "\u001b[0;31mNameError\u001b[0m                                 Traceback (most recent call last)",
      "\u001b[0;32m<ipython-input-1-f47ecfc1c8d9>\u001b[0m in \u001b[0;36m<module>\u001b[0;34m()\u001b[0m\n\u001b[0;32m----> 1\u001b[0;31m \u001b[1;32mfor\u001b[0m \u001b[0mfilename\u001b[0m \u001b[1;32min\u001b[0m \u001b[0mglob\u001b[0m\u001b[1;33m.\u001b[0m\u001b[0mglob\u001b[0m\u001b[1;33m(\u001b[0m\u001b[0mdata_dir\u001b[0m\u001b[1;33m)\u001b[0m\u001b[1;33m:\u001b[0m\u001b[1;33m\u001b[0m\u001b[0m\n\u001b[0m\u001b[1;32m      2\u001b[0m     \u001b[1;32mwith\u001b[0m \u001b[0mopen\u001b[0m\u001b[1;33m(\u001b[0m\u001b[0mfilename\u001b[0m\u001b[1;33m)\u001b[0m \u001b[1;32mas\u001b[0m \u001b[0mfil\u001b[0m\u001b[1;33m:\u001b[0m\u001b[1;33m\u001b[0m\u001b[0m\n\u001b[1;32m      3\u001b[0m         \u001b[0mcurrent_file\u001b[0m\u001b[1;33m=\u001b[0m \u001b[0mjson\u001b[0m\u001b[1;33m.\u001b[0m\u001b[0mload\u001b[0m\u001b[1;33m(\u001b[0m\u001b[0mfil\u001b[0m\u001b[1;33m)\u001b[0m\u001b[1;33m\u001b[0m\u001b[0m\n\u001b[1;32m      4\u001b[0m \u001b[1;33m\u001b[0m\u001b[0m\n\u001b[1;32m      5\u001b[0m         \u001b[1;31m# Getting details for all teams\u001b[0m\u001b[1;33m\u001b[0m\u001b[1;33m\u001b[0m\u001b[0m\n",
      "\u001b[0;31mNameError\u001b[0m: name 'glob' is not defined"
     ]
    }
   ],
   "source": [
    "for filename in glob.glob(data_dir):\n",
    "    with open(filename) as fil:\n",
    "        current_file= json.load(fil)\n",
    "        \n",
    "        # Getting details for all teams\n",
    "        team_id = []\n",
    "        for team in current_file['teams']:\n",
    "            case = {team['id'] : team['name']}\n",
    "            team_id.append(case)\n",
    "#         print(team_id)\n",
    "        \n",
    "        #Getting player names and player team\n",
    "        players = [player['first_name']+\" \"+player['second_name'] for player in current_file['elements']]\n",
    "        \n",
    "        teams = [team_id[player['team']] for player in current_file['elements']]\n",
    "#         teams = [team['name'] for team in team_detail if team['id'] == [t for t in team_id]]\n",
    "print(teams)"
   ]
  },
  {
   "cell_type": "code",
   "execution_count": null,
   "metadata": {
    "collapsed": false
   },
   "outputs": [],
   "source": []
  },
  {
   "cell_type": "code",
   "execution_count": 46,
   "metadata": {
    "collapsed": true
   },
   "outputs": [],
   "source": [
    "# # Generate the data frame\n",
    "# all_players = []\n",
    "# all_player_goals = []\n",
    "# all_player_assists = []\n",
    "# all_player_yellow_cards = []\n",
    "# all_player_red_cards = []\n",
    "# all_team_goals = []\n",
    "# all_teams = []\n",
    "\n",
    "# for filename in glob.glob(data_dir):\n",
    "#     with open(filename) as fil:\n",
    "#         current_file= json.load(fil)\n",
    "    \n",
    "#         # \n",
    "#         team = [team['name'] for team in current_file['teams']]\n",
    "#         all_players.extend(players)\n",
    "        \n",
    "        # \n",
    "#         goals = [player['playerstats'][0]['goals'] for player in current_file]\n",
    "#         all_player_goals.extend(goals)\n",
    "        \n",
    "#         # \n",
    "#         assists = [player['playerstats'][0]['assists'] for player in current_file]\n",
    "#         all_player_assists.extend(assists)\n",
    "        \n",
    "#         # \n",
    "#         yellow_cards = [player['playerstats'][0]['yellowCards'] for player in current_file]\n",
    "#         all_player_yellow_cards.extend(yellow_cards)\n",
    "        \n",
    "#         # \n",
    "#         red_cards = [player['playerstats'][0]['redCards'] for player in current_file]\n",
    "#         all_player_red_cards.extend(red_cards)\n",
    "        \n",
    "        "
   ]
  },
  {
   "cell_type": "code",
   "execution_count": 47,
   "metadata": {
    "collapsed": false
   },
   "outputs": [],
   "source": [
    "# df = DataFrame({'player' :all_players, 'goals': all_player_goals, 'assists' :all_player_assists, 'yellow cards' :all_player_yellow_cards, 'red cards' :all_player_red_cards})\n",
    "# df_player = df[['player', 'goals', 'assists', 'yellow cards', 'red cards']]\n",
    "\n"
   ]
  },
  {
   "cell_type": "code",
   "execution_count": 48,
   "metadata": {
    "collapsed": false
   },
   "outputs": [],
   "source": [
    "# df_player['score'] = (df['goals'] * 3) + df['assists'] - round(df['yellow cards']/2,2) - (df['red cards'] * 3)"
   ]
  },
  {
   "cell_type": "code",
   "execution_count": 49,
   "metadata": {
    "collapsed": false
   },
   "outputs": [],
   "source": [
    "# df_player = df_player.sort_values(by=['goals','assists', 'yellow cards', 'red cards'],ascending=False)\n",
    "# df_player"
   ]
  },
  {
   "cell_type": "code",
   "execution_count": null,
   "metadata": {
    "collapsed": true
   },
   "outputs": [],
   "source": []
  },
  {
   "cell_type": "code",
   "execution_count": null,
   "metadata": {
    "collapsed": true
   },
   "outputs": [],
   "source": []
  }
 ],
 "metadata": {
  "anaconda-cloud": {},
  "kernelspec": {
   "display_name": "Python [default]",
   "language": "python",
   "name": "python3"
  }
 },
 "nbformat": 4,
 "nbformat_minor": 1
}
