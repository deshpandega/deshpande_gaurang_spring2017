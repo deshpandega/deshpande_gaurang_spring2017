{
 "cells": [
  {
   "cell_type": "markdown",
   "metadata": {},
   "source": [
    "# Data gathering for all analysis\n",
    "\n",
    "#### Fetching data and creating folder structure where data is stored\n",
    "#### There are 3 apis used to fetch data for the teams, one to get all the match details and player details, second to get the goals and assists and cards awarded to each player and third to get more information about players, like saves, clean sheets, penalties scored, missed, saved, own goals conceded, etc in addition to cards and goal details for all players"
   ]
  },
  {
   "cell_type": "code",
   "execution_count": 1,
   "metadata": {
    "collapsed": false
   },
   "outputs": [],
   "source": [
    "# Import statements\n",
    "import json, glob, os, re, requests, time\n",
    "from datetime import date, datetime as datetime\n",
    "import sys\n",
    "from unidecode import unidecode"
   ]
  },
  {
   "cell_type": "code",
   "execution_count": 2,
   "metadata": {
    "collapsed": false
   },
   "outputs": [
    {
     "name": "stdout",
     "output_type": "stream",
     "text": [
      "aeaba671d12546dfaae1401e242a94af\n"
     ]
    }
   ],
   "source": [
    "# Crowdscore developer console API key\n",
    "crowdscore_api_key = os.getenv(\"crowdscore_api_key\")\n",
    "print(crowdscore_api_key)\n",
    "\n",
    "#Defining varialbes for later use\n",
    "crowdscore_epl_competition_id = 2\n",
    "league_id = 0;\n",
    "team_ids = []\n",
    "players = []"
   ]
  },
  {
   "cell_type": "code",
   "execution_count": 3,
   "metadata": {
    "collapsed": true
   },
   "outputs": [],
   "source": [
    "# Different apis to fetch data from, added in list\n",
    "apis = ['search_all_leagues','lookup_all_teams', 'lookup_all_players', 'eventsseason', 'teams', 'seasons', 'rounds', 'playerstats', 'fpl']\n",
    "data_folders_directory = []"
   ]
  },
  {
   "cell_type": "code",
   "execution_count": 4,
   "metadata": {
    "collapsed": false
   },
   "outputs": [],
   "source": [
    "## Function to create folder structure to store data for different apis in json format for question 2\n",
    "def create_directory_for_data(api):\n",
    "    current_dir = os.path.dirname('__file__')                                #Relative path for current directory\n",
    "    data_folder = current_dir\n",
    "    return create_subfolders_for_data(data_folder, 'data', api)\n",
    "\n",
    "## Function to create subfolder as per the path specified and api names\n",
    "def create_subfolders_for_data(data_folder, data, api):\n",
    "    directory =os.path.join(data_folder, data, api)\n",
    "    if not os.path.exists(directory):\n",
    "        os.makedirs(directory)\n",
    "        return directory\n",
    "    else:\n",
    "        return directory\n",
    "    \n",
    "#Function to write data to json file at respective location\n",
    "def write_to_json_file(file_path, json_data):\n",
    "    with open(file_path, 'w') as json_out:\n",
    "        json.dump(json_data, json_out, indent=2)\n",
    "        \n",
    "for api in apis:\n",
    "    data_folder_dir = create_directory_for_data(api)\n",
    "    data_folders_directory.append(data_folder_dir)"
   ]
  },
  {
   "cell_type": "code",
   "execution_count": 5,
   "metadata": {
    "collapsed": true
   },
   "outputs": [],
   "source": [
    "#Function to fetch response from api provided\n",
    "## As both apis have different calling parameters, using if to differentiate between the calls\n",
    "def fetch_response_from_api(api, team_id, player_id, season, game_week):\n",
    "    if api == 'search_all_leagues':\n",
    "        #URL to hit\n",
    "        url = 'http://www.thesportsdb.com/api/v1/json/1/search_all_leagues.php?s=soccer'\n",
    "        response = requests.get(url)\n",
    "        return response\n",
    "    \n",
    "    elif api == 'lookup_all_teams':    \n",
    "        #URL to hit\n",
    "        url = 'http://www.thesportsdb.com/api/v1/json/1/lookup_all_teams.php'\n",
    "        #Parameters to pass\n",
    "        payload = {'id':league_id}\n",
    "        response = requests.get(url,params=payload)\n",
    "        return response \n",
    "    \n",
    "    elif api == 'lookup_all_players':\n",
    "        #URL to hit\n",
    "        url = 'http://www.thesportsdb.com/api/v1/json/1/lookup_all_players.php'\n",
    "        #Parameters to pass\n",
    "        payload = {'id':team_id}\n",
    "        response = requests.get(url,params=payload)\n",
    "        return response\n",
    "    \n",
    "    elif api == 'eventsseason':\n",
    "        #URL to hit\n",
    "        url = 'http://www.thesportsdb.com/api/v1/json/1/eventsseason.php'\n",
    "        #Parameters to pass\n",
    "        payload = {'id': league_id, 's': season }\n",
    "        response = requests.get(url,params=payload)\n",
    "        return response\n",
    "    \n",
    "    elif api == 'teams':\n",
    "        #URL to hit\n",
    "        url = 'https://api.crowdscores.com/v1/teams'\n",
    "        #Parameters to pass\n",
    "        payload = {'api_key':crowdscore_api_key, 'competition_ids': crowdscore_epl_competition_id}\n",
    "        response = requests.get(url,params=payload) \n",
    "        return response\n",
    "    \n",
    "    elif api == 'seasons':\n",
    "        #URL to hit\n",
    "        url = 'https://api.crowdscores.com/v1/seasons'        \n",
    "        #Parameters to pass\n",
    "        payload = {'api_key':crowdscore_api_key}\n",
    "        response = requests.get(url,params=payload)\n",
    "        return response\n",
    "    \n",
    "    elif api == 'rounds':\n",
    "        #URL to hit\n",
    "        url = 'https://api.crowdscores.com/v1/rounds'\n",
    "        #Parameters to pass\n",
    "        payload = {'api_key':crowdscore_api_key, 'competition_ids': crowdscore_epl_competition_id}\n",
    "        response = requests.get(url,params=payload)\n",
    "        return response\n",
    "    \n",
    "    elif api == 'playerstats':\n",
    "        #URL to hit\n",
    "        url = 'https://api.crowdscores.com/v1/playerstats'\n",
    "        #Parameters to pass\n",
    "        payload = {'api_key':crowdscore_api_key, 'competition_ids': crowdscore_epl_competition_id,'team_ids':team_id,'round_ids':game_week,'season_ids':season}\n",
    "        response = requests.get(url,params=payload)\n",
    "        return response\n",
    "    \n",
    "    elif api == 'fpl':\n",
    "        #URL to hit\n",
    "        url = 'https://fantasy.premierleague.com/drf/bootstrap-static'\n",
    "        #Parameters to pass\n",
    "        response = requests.get(url)\n",
    "        return response\n",
    "    \n",
    "#Returns response object"
   ]
  },
  {
   "cell_type": "code",
   "execution_count": 6,
   "metadata": {
    "collapsed": false
   },
   "outputs": [],
   "source": [
    "# Function to extract only articles from the response file\n",
    "def process_response_from_service(response, api, file_path):\n",
    "    if response.status_code == 200:\n",
    "        response = response.text.split('<br />')\n",
    "        response = response[0].encode('utf-8').decode('utf-8')\n",
    "        res = json.loads(response)\n",
    "        file = []\n",
    "        if os.path.exists(file_path):\n",
    "            with open(file_path) as fil:\n",
    "                # Get already present file and its content as we will use this multiple times to gather data\n",
    "                file = json.load(fil)\n",
    "                \n",
    "                if api == 'lookup_all_players':\n",
    "                    # Remove duplicates\n",
    "                    this_response = [player for player in res['player'] if player['idPlayer'] not in [pl['idPlayer'] for pl in file]]\n",
    "                    file.extend(this_response)\n",
    "                elif api == 'playerstats':\n",
    "                    # Remove duplicates\n",
    "                    this_response = [player for player in res if player['dbid'] not in [pl['dbid'] for pl in file]]\n",
    "                    file.extend(this_response)\n",
    "        else:\n",
    "            # If the file is not present, dont check for duplicates. Just write the articles into variable\n",
    "            if api == 'lookup_all_players':\n",
    "                file.extend(res['player'])\n",
    "            else:\n",
    "                file = res\n",
    "\n",
    "        #Write output to json format\n",
    "        write_to_json_file(file_path, file)\n",
    "        return file\n",
    "    else:\n",
    "        #Show error messages in case an API fails\n",
    "        print('Request Failed for archives with status code',response.status_code)\n",
    "        return 0"
   ]
  },
  {
   "cell_type": "code",
   "execution_count": 7,
   "metadata": {
    "collapsed": false
   },
   "outputs": [],
   "source": [
    "for data_folder_dir in data_folders_directory:\n",
    "    api = data_folder_dir[5:]\n",
    "    \n",
    "    #Generate name of response files\n",
    "    file_name = api+'_response'\n",
    "    file_path = os.path.join(data_folder_dir, file_name)\n",
    "    file_path+='.json'\n",
    "    \n",
    "    status_from_json = 200\n",
    "    \n",
    "    # Fetch data till we get error from response \n",
    "    while(status_from_json == 200):\n",
    "        # Add time delay between 2 api calls to fetch response without interruption\n",
    "        time.sleep(1)\n",
    "        \n",
    "        # Fetch response for each API\n",
    "        if api == 'search_all_leagues':\n",
    "            response = fetch_response_from_api(api, 0, 0, 0, 0)\n",
    "            # save all league details from response into json file \n",
    "            resp_in_json = process_response_from_service(response, api, file_path)\n",
    "            # Find the league id for English Premier League and store in an array so that in future if we want to analyze for more leagues, we can do that\n",
    "            league_id = [league['idLeague'] for league in resp_in_json['countrys'] if league['strCountry'] and league['strLeague']=='English Premier League']\n",
    "        \n",
    "        elif api == 'lookup_all_teams':\n",
    "            response = fetch_response_from_api(api, 0, 0, 0, 0)\n",
    "            # save details of all teams playing in EPL for current season in json file\n",
    "            resp_in_json = process_response_from_service(response, api, file_path)\n",
    "            # Find the team id for each team in English Premier League and store in an array\n",
    "            team_ids = [team['idTeam'] for team in resp_in_json['teams']]\n",
    "            \n",
    "        elif api == 'lookup_all_players':\n",
    "            # For each team, according to team id, fetch players details\n",
    "            for team_id in team_ids:\n",
    "                response = fetch_response_from_api(api, team_id, 0, 0, 0)\n",
    "                # save the players details from response into json file \n",
    "                resp_in_json = process_response_from_service(response, api, file_path)\n",
    "        \n",
    "        elif api == 'eventsseason':\n",
    "            season = ''\n",
    "            # Find football season according to current month\n",
    "            # before season starts in August, use season as (last year - this year) else use (this year - next year)\n",
    "            if int(datetime.now().strftime(\"%m\")) < 8:\n",
    "                season = str(int(datetime.now().strftime(\"%y\"))-1)+\"\"+datetime.now().strftime(\"%y\")\n",
    "            else:\n",
    "                season = datetime.now().strftime(\"%y\")+\"\"+str(int(datetime.now().strftime(\"%y\"))+1)\n",
    "            response = fetch_response_from_api(api, 0, 0, season, 0)\n",
    "            # save the articles only from response into json file\n",
    "            resp_in_json = process_response_from_service(response, api, file_path)\n",
    "      \n",
    "        elif api == 'teams':\n",
    "            response = fetch_response_from_api(api, 0, 0, 0, 0)\n",
    "            # save the details of each team from response into json file\n",
    "            resp_in_json = process_response_from_service(response, api, file_path)\n",
    "            # Find team id and store in a list\n",
    "            team_ids = [team['dbid'] for team in resp_in_json]\n",
    "            \n",
    "        elif api == 'seasons':\n",
    "            response = fetch_response_from_api(api, 0, 0, 0, 0)\n",
    "            # save the season from response into json file\n",
    "            resp_in_json = process_response_from_service(response, api, file_path)\n",
    "            # Find the id for current season from response\n",
    "            season = ''\n",
    "            if int(datetime.now().strftime(\"%m\")) < 8:\n",
    "                season = str(int(datetime.now().strftime(\"%Y\"))-1)+\"/\"+datetime.now().strftime(\"%Y\")\n",
    "            else:\n",
    "                season = datetime.now().strftime(\"%Y\")+\"/\"+str(int(datetime.now().strftime(\"%Y\"))+1)\n",
    "            season = [years['dbid'] for years in resp_in_json if years['name']==season]\n",
    "            \n",
    "        elif api == 'rounds':\n",
    "            response = fetch_response_from_api(api, 0, 0, 0, 0)\n",
    "            # save the round id only from response into json file\n",
    "            resp_in_json = process_response_from_service(response, api, file_path)\n",
    "            # save id for round necessary as an input parameter for getting player stats\n",
    "            game_week = resp_in_json[0]['dbid']\n",
    "        \n",
    "        elif api == 'playerstats':\n",
    "            for team_id in team_ids:\n",
    "                response = fetch_response_from_api(api, team_id, 0, season, game_week)\n",
    "                #Modify file path to get different file name for each team\n",
    "                path_to_file = file_path.split('.json');\n",
    "                path = path_to_file[0]+str(team_id)+'.json'\n",
    "                # save the details of each team in a separate  only from response into json file\n",
    "                resp_in_json = process_response_from_service(response, api, path)\n",
    "        \n",
    "        elif api == 'fpl':\n",
    "            response = fetch_response_from_api(api, 0, 0, 0, 0)\n",
    "            # save all league details from response into json file \n",
    "            resp_in_json = process_response_from_service(response, api, file_path)\n",
    "            \n",
    "        # Change the variable holding response to anything except 200 so that we can move to next api call    \n",
    "        status_from_json = 201           \n",
    "        "
   ]
  },
  {
   "cell_type": "code",
   "execution_count": null,
   "metadata": {
    "collapsed": false
   },
   "outputs": [],
   "source": []
  },
  {
   "cell_type": "code",
   "execution_count": null,
   "metadata": {
    "collapsed": false
   },
   "outputs": [],
   "source": []
  },
  {
   "cell_type": "code",
   "execution_count": null,
   "metadata": {
    "collapsed": true
   },
   "outputs": [],
   "source": []
  },
  {
   "cell_type": "code",
   "execution_count": 140,
   "metadata": {
    "collapsed": false
   },
   "outputs": [],
   "source": [
    "# u = \"H\\u00e5vard Nordtveit\"\n",
    "# unidecode(u)"
   ]
  },
  {
   "cell_type": "code",
   "execution_count": null,
   "metadata": {
    "collapsed": false
   },
   "outputs": [],
   "source": []
  },
  {
   "cell_type": "code",
   "execution_count": null,
   "metadata": {
    "collapsed": false
   },
   "outputs": [],
   "source": []
  },
  {
   "cell_type": "code",
   "execution_count": null,
   "metadata": {
    "collapsed": true
   },
   "outputs": [],
   "source": []
  }
 ],
 "metadata": {
  "anaconda-cloud": {},
  "kernelspec": {
   "display_name": "Python [default]",
   "language": "python",
   "name": "python3"
  },
  "language_info": {
   "codemirror_mode": {
    "name": "ipython",
    "version": 3
   },
   "file_extension": ".py",
   "mimetype": "text/x-python",
   "name": "python",
   "nbconvert_exporter": "python",
   "pygments_lexer": "ipython3",
   "version": "3.5.2"
  }
 },
 "nbformat": 4,
 "nbformat_minor": 1
}
