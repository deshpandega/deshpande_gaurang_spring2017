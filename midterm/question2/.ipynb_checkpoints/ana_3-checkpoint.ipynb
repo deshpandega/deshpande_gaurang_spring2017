{
 "cells": [
  {
   "cell_type": "markdown",
   "metadata": {},
   "source": [
    "# Question 2 - Analysis 3"
   ]
  },
  {
   "cell_type": "markdown",
   "metadata": {},
   "source": [
    "#### Combine the 2 datasets *(archives and article search)* as both have same data structure and eliminate dupllicate articles\n",
    "#### Find dates for each article and find trending keywords and 3 NNPs present adjusent to each other in lead paragraph on those dates which makes President Donald Trump.\n",
    "#### Use nltk pos taging to get three NNPs used adjusent to each other in lead paragraph and consider them as one desired occurance\n",
    "#### Count each such occurance in each month"
   ]
  },
  {
   "cell_type": "code",
   "execution_count": 3,
   "metadata": {
    "collapsed": true
   },
   "outputs": [],
   "source": [
    "import json, os, glob, matplotlib.pyplot as plt, nltk, operator\n",
    "from datetime import datetime"
   ]
  },
  {
   "cell_type": "code",
   "execution_count": 4,
   "metadata": {
    "collapsed": true
   },
   "outputs": [],
   "source": [
    "current_dir = os.path.dirname('__file__')\n",
    "data_dir = os.path.join(current_dir, '..', 'data','question2','*','*.json')"
   ]
  },
  {
   "cell_type": "code",
   "execution_count": 5,
   "metadata": {
    "collapsed": true
   },
   "outputs": [],
   "source": [
    "already_present_file = []\n",
    "for filename in glob.glob(data_dir):\n",
    "    with open(filename) as fil:\n",
    "        current_file = json.load(fil)\n",
    "        this_response = [artic for artic in current_file if artic['_id'] not in [articles['_id'] for articles in already_present_file]]\n",
    "        already_present_file.extend(this_response)"
   ]
  },
  {
   "cell_type": "code",
   "execution_count": 34,
   "metadata": {
    "collapsed": false
   },
   "outputs": [],
   "source": [
    "dict_for_articles_covered = {}\n",
    "for article in already_present_file:\n",
    "    analyzed_data = []\n",
    "    datetime_object = datetime.strptime(article['pub_date'][:10], '%Y-%m-%d')\n",
    "    month_and_year = str(datetime_object.month)+\"-\"+str(datetime_object.year)\n",
    "    try:\n",
    "        keywords_in_this_article = [trend_keyword['value'] for trend_keyword in article['keywords'] if trend_keyword['value'] == 'Trump, Donald J']\n",
    "        analyzed_data.extend(keywords_in_this_article)\n",
    "    except:\n",
    "        analyzed_data\n",
    "    \n",
    "    statement = article['lead_paragraph']\n",
    "    if statement != None:\n",
    "        list_of_words = nltk.word_tokenize(statement)\n",
    "        tri_tokens = nltk.trigrams(list_of_words)\n",
    "        from_this_statement = []\n",
    "        for token in tri_tokens:\n",
    "            if (token[0]=='President') and (token[1]=='Donald') and (token[2]=='Trump'):\n",
    "                from_this_statement.append(token[0]+\" \"+token[1]+\" \"+token[2])\n",
    "                analyzed_data.append(token[0]+\" \"+token[1]+\" \"+token[2])\n",
    "        if len(from_this_statement) == 0:\n",
    "            bi_tokens = nltk.bigrams(list_of_words)\n",
    "            for token in bi_tokens:\n",
    "                if (token[0]=='President' or token[0]=='Donald') and (token[1]=='Trump' or token[1]=='Donald'):\n",
    "                    analyzed_data.append(token[0]+\" \"+token[1])\n",
    "    if month_and_year in dict_for_articles_covered:\n",
    "        dict_for_articles_covered[month_and_year] += len(analyzed_data)\n",
    "    else:\n",
    "        if len(analyzed_data) !=0:\n",
    "            dict_for_articles_covered[month_and_year] = len(analyzed_data)\n",
    "\n",
    "sorted_art_dict = sorted(dict_for_articles_covered.items(), key=operator.itemgetter(1), reverse=True)"
   ]
  },
  {
   "cell_type": "code",
   "execution_count": 40,
   "metadata": {
    "collapsed": false
   },
   "outputs": [
    {
     "data": {
      "image/png": "[encoded data removed]",
      "text/plain": [
       "<matplotlib.figure.Figure at 0x183052c9be0>"
      ]
     },
     "metadata": {},
     "output_type": "display_data"
    }
   ],
   "source": [
    "# x and y axes and dates for lables\n",
    "x_val = []\n",
    "y_val = []\n",
    "month_year = []\n",
    "count = 0\n",
    "for item in sorted_art_dict:\n",
    "    month_year.append(item[0])\n",
    "    count+=1\n",
    "    x_val.append(count)\n",
    "    y_val.append(item[1])\n",
    "\n",
    "fig = plt.figure()                                                           #Width of each bar\n",
    "plt.bar(x_val, y_val, color='#795548')                                       #Graph type with values for both axes\n",
    "plt.grid(True)                                                               #Show grid\n",
    "plt.xticks(x_val, month_year, rotation = 90)\n",
    "plt.ylabel('Trending count')\n",
    "plt.xlabel('Month and Year')\n",
    "plt.title('When President was most trending')  \n",
    "fig.set_figwidth(12, 10)                                                     #Graph width\n",
    "plt.show()                                                                   ##Show graph"
   ]
  },
  {
   "cell_type": "code",
   "execution_count": null,
   "metadata": {
    "collapsed": true
   },
   "outputs": [],
   "source": []
  }
 ],
 "metadata": {
  "anaconda-cloud": {},
  "kernelspec": {
   "display_name": "Python [default]",
   "language": "python",
   "name": "python3"
  },
  "language_info": {
   "codemirror_mode": {
    "name": "ipython",
    "version": 3
   },
   "file_extension": ".py",
   "mimetype": "text/x-python",
   "name": "python",
   "nbconvert_exporter": "python",
   "pygments_lexer": "ipython3",
   "version": "3.5.2"
  }
 },
 "nbformat": 4,
 "nbformat_minor": 1
}
