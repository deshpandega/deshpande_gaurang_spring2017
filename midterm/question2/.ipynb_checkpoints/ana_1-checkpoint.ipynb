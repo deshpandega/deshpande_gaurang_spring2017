{
 "cells": [
  {
   "cell_type": "markdown",
   "metadata": {},
   "source": [
    "# Question 2 - Analysis 1"
   ]
  },
  {
   "cell_type": "markdown",
   "metadata": {},
   "source": [
    "#### Combine the 2 datasets *(archives and article search)* as both have same data structure and eliminate dupllicate articles\n",
    "#### Find Dates for each article and find number of reporters who reported on those dates. If the article doesn't have reporters, use the source instead\n",
    "#### Eliminate the duplicate reporters *(a reporter reporting 2 articles on same day)*\n",
    "#### Load all the values into a dictionary and display recent 50 days vs number of reporters reported on these days. Data is also present to show who all reported on which day but not plotted. It is stored in a json file"
   ]
  },
  {
   "cell_type": "code",
   "execution_count": 224,
   "metadata": {
    "collapsed": true
   },
   "outputs": [],
   "source": [
    "import json, os, glob, matplotlib.pyplot as plt\n",
    "from datetime import datetime"
   ]
  },
  {
   "cell_type": "code",
   "execution_count": 225,
   "metadata": {
    "collapsed": true
   },
   "outputs": [],
   "source": [
    "current_dir = os.path.dirname('__file__')\n",
    "data_dir = os.path.join(current_dir, '..', 'data','question2','*','*.json')"
   ]
  },
  {
   "cell_type": "code",
   "execution_count": null,
   "metadata": {
    "collapsed": false
   },
   "outputs": [],
   "source": [
    "already_present_file = []\n",
    "for filename in glob.glob(data_dir):\n",
    "    with open(filename) as fil:\n",
    "        current_file = json.load(fil)\n",
    "        this_response = [artic for artic in current_file if artic['_id'] not in [articles['_id'] for articles in already_present_file]]\n",
    "        already_present_file.extend(this_response)"
   ]
  },
  {
   "cell_type": "code",
   "execution_count": null,
   "metadata": {
    "collapsed": false
   },
   "outputs": [],
   "source": [
    "dict_for_articles_covered = {}\n",
    "\n",
    "for article in already_present_file:\n",
    "    datetime_object = datetime.strptime(article['pub_date'][:10], '%Y-%m-%d')\n",
    "    analyzed_data = []\n",
    "    try:\n",
    "        analyzed_data = [person['firstname']+' '+person['lastname'] for person in article['byline']['person']]\n",
    "        list(set(analyzed_data))\n",
    "    except:\n",
    "        analyzed_data = [article['source']]\n",
    "    if datetime_object in dict_for_articles_covered:\n",
    "        dict_for_articles_covered[datetime_object] += (analyzed_data)\n",
    "    else:\n",
    "        dict_for_articles_covered[datetime_object] = (analyzed_data)\n",
    "        \n",
    "for key, value in dict_for_articles_covered.items():\n",
    "    dict_for_articles_covered[key] = list(set(value))\n",
    "        \n",
    "dict_for_articles_covered_sorted = sorted(dict_for_articles_covered.items(), reverse=True)"
   ]
  },
  {
   "cell_type": "code",
   "execution_count": null,
   "metadata": {
    "collapsed": false
   },
   "outputs": [],
   "source": [
    "# x and y axes and dates for lables\n",
    "x_val = []\n",
    "y_val = []\n",
    "words = []\n",
    "count = 0\n",
    "for key, value in dict_for_articles_covered_sorted:\n",
    "    words.append(key.strftime(\"%Y-%b-%d\"))\n",
    "    count+=1\n",
    "    x_val.append(count)\n",
    "    y_val.append(len(value))\n",
    "\n",
    "fig = plt.figure()                                                           #Width of each bar\n",
    "plt.bar(x_val[:50], y_val[:50], color='#d62728')             #Graph type with values for both axes\n",
    "plt.grid(True)                                                               #Show grid\n",
    "plt.xticks(x_val[:50], words[:50],  rotation=80)\n",
    "plt.ylabel('Number of reporters reported')\n",
    "plt.xlabel('Dates')\n",
    "plt.title('Latest 50 Dates vs number of Reporters reported on those dates')  \n",
    "fig.set_figwidth(12, 10)                                                     #Graph width\n",
    "plt.show()                                                                   ##Show graph\n"
   ]
  },
  {
   "cell_type": "code",
   "execution_count": null,
   "metadata": {
    "collapsed": false
   },
   "outputs": [],
   "source": [
    "#Function to write data to json file at respective location\n",
    "def write_to_json_file(file_path, json_data):\n",
    "    with open(file_path, 'w') as json_out:\n",
    "        json.dump(json_data, json_out, indent=2)\n",
    "\n",
    "def create_directory_for_output():\n",
    "    current_dir = os.path.dirname('__file__')\n",
    "    data_folder = os.path.join(current_dir, 'ana_1')\n",
    "    if not os.path.exists(data_folder):\n",
    "        os.mkdir(data_folder)\n",
    "    return data_folder\n",
    "\n",
    "output_folder=create_directory_for_output()\n",
    "\n",
    "file_name = 'dates_VS_no_of_reporters'\n",
    "file_path = os.path.join(output_folder, file_name)\n",
    "file_path+='.json'\n",
    "\n",
    "final_output_file = {}\n",
    "\n",
    "for art in dict_for_articles_covered_sorted:\n",
    "    key = art[0].strftime(\"%Y-%b-%d\")\n",
    "    final_output_file[key] = (art[1])\n",
    "\n",
    "write_to_json_file(file_path, final_output_file)"
   ]
  },
  {
   "cell_type": "code",
   "execution_count": null,
   "metadata": {
    "collapsed": true
   },
   "outputs": [],
   "source": []
  }
 ],
 "metadata": {
  "anaconda-cloud": {},
  "kernelspec": {
   "display_name": "Python [default]",
   "language": "python",
   "name": "python3"
  },
  "language_info": {
   "codemirror_mode": {
    "name": "ipython",
    "version": 3
   },
   "file_extension": ".py",
   "mimetype": "text/x-python",
   "name": "python",
   "nbconvert_exporter": "python",
   "pygments_lexer": "ipython3",
   "version": "3.5.2"
  }
 },
 "nbformat": 4,
 "nbformat_minor": 1
}
