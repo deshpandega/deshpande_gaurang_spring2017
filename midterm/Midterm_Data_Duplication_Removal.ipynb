{
 "cells": [
  {
   "cell_type": "code",
   "execution_count": 2,
   "metadata": {
    "collapsed": true
   },
   "outputs": [],
   "source": [
    "import json, glob, os, csv, re"
   ]
  },
  {
   "cell_type": "code",
   "execution_count": 3,
   "metadata": {
    "collapsed": true
   },
   "outputs": [],
   "source": [
    "api = 'articlesearch'"
   ]
  },
  {
   "cell_type": "code",
   "execution_count": 6,
   "metadata": {
    "collapsed": false
   },
   "outputs": [],
   "source": [
    "def create_directory_for_data(api):\n",
    "    current_dir = os.path.dirname('__file__')\n",
    "    data_folder = current_dir\n",
    "#     os.path.join(current_dir, 'midterm')\n",
    "#     if not os.path.exists(data_folder):\n",
    "#         os.mkdir(data_folder)\n",
    "    return create_subfolders_for_data(data_folder, 'data', 'question2', api)\n",
    "\n",
    "def create_subfolders_for_data(data_folder, data, question,  api):\n",
    "    directory =os.path.join(data_folder, data, question,  api)\n",
    "    if not os.path.exists(directory):\n",
    "        os.makedirs(directory)\n",
    "        return directory\n",
    "    else:\n",
    "        return directory\n",
    "    \n",
    "#Function to write data to json file at respective location\n",
    "def write_to_json_file(file_path, json_data):\n",
    "    with open(file_path, 'w') as json_out:\n",
    "        json.dump(json_data, json_out, indent=2)\n",
    "        \n",
    "data_folder_dir = create_directory_for_data(api)"
   ]
  },
  {
   "cell_type": "code",
   "execution_count": 8,
   "metadata": {
    "collapsed": false
   },
   "outputs": [
    {
     "name": "stdout",
     "output_type": "stream",
     "text": [
      "1210\n",
      "1401\n",
      "midterm\\data\\question2\\articlesearch\\articlesearch_response_pages.json\n"
     ]
    }
   ],
   "source": [
    "file_place = api+'_response_pages'\n",
    "file_path = os.path.join(data_folder_dir, file_place)\n",
    "file_path+='.json'\n",
    "\n",
    "articles = []\n",
    "\n",
    "with open(file_path) as fil:\n",
    "    articles = json.load(fil)\n",
    "\n",
    "print(len(articles))\n",
    "\n",
    "# midterm\\\n",
    "for filename in glob.glob(r'data\\question2\\old_outputs\\articlesearch\\*.json'):\n",
    "    #Get the file name currently reading\n",
    "    file_name = os.path.basename(filename)\n",
    "    with open(filename) as f:\n",
    "        #Load data from json file\n",
    "        data_from_file = json.load(f)\n",
    "        this_response = [artic for artic in data_from_file['response']['docs'] if artic['_id'] not in [articles['_id'] for articles in articles]]\n",
    "        articles.extend(this_response)\n",
    "\n",
    "print(len(articles))\n",
    "\n",
    "print(file_path)\n",
    "write_to_json_file(file_path, articles)\n"
   ]
  },
  {
   "cell_type": "code",
   "execution_count": null,
   "metadata": {
    "collapsed": true
   },
   "outputs": [],
   "source": []
  }
 ],
 "metadata": {
  "anaconda-cloud": {},
  "kernelspec": {
   "display_name": "Python [default]",
   "language": "python",
   "name": "python3"
  },
  "language_info": {
   "codemirror_mode": {
    "name": "ipython",
    "version": 3
   },
   "file_extension": ".py",
   "mimetype": "text/x-python",
   "name": "python",
   "nbconvert_exporter": "python",
   "pygments_lexer": "ipython3",
   "version": "3.5.2"
  }
 },
 "nbformat": 4,
 "nbformat_minor": 1
}
