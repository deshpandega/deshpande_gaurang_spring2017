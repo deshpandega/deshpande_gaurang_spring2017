{
 "cells": [
  {
   "cell_type": "markdown",
   "metadata": {},
   "source": [
    "# Question 1\n",
    "\n",
    "#### Open a file using glob\n",
    "#### Get the list of words and their frequencies and arrange in decending order\n",
    "#### Storing the final output in a csv file\n",
    "#### Generate a log-log plot\n",
    "#### Conclusion"
   ]
  },
  {
   "cell_type": "code",
   "execution_count": 321,
   "metadata": {
    "collapsed": false
   },
   "outputs": [],
   "source": [
    "import string, re, operator, glob, csv\n",
    "import matplotlib.pyplot as plt\n",
    "from nltk.corpus import stopwords\n",
    "\n",
    "all_lines = []\n",
    "for filename in glob.glob(r'C:\\Users\\infer\\AppData\\Roaming\\nltk_data\\corpora\\gutenberg\\*.txt')[:]:\n",
    "    with open(filename) as f:\n",
    "        all_lines.extend([line[:-1] for line in f.readlines() if line[:-1] != ''])\n",
    "all_lines = [line.lower() for line in all_lines]                                 #to make all words lowercase\n",
    "# print(all_lines)"
   ]
  },
  {
   "cell_type": "code",
   "execution_count": 322,
   "metadata": {
    "collapsed": false
   },
   "outputs": [],
   "source": [
    "#Function to remove all punctuations\n",
    "def removePunc(list_var):\n",
    "    list_var = ' '.join(singular for singular in list_var)\n",
    "    a_single_string = ''.join(ch if ch not in set(string.punctuation) else ' ' for ch in list_var)    #Return a single string\n",
    "    \n",
    "    #Call labmda extression from function\n",
    "    return remove_numbers_lam(a_single_string)\n",
    "\n",
    "#Lambda expression to remove numbers\n",
    "remove_numbers_lam = lambda value: re.sub(r'\\d+', '', value).strip()\n",
    "\n",
    "#Lambda expression to remove stopwords\n",
    "remove_stop_words_lam = lambda single_string, all_stopwords: [word for word in single_string.split() if word not in all_stopwords]\n",
    "\n",
    "stop = stopwords.words('english')\n",
    "aString = removePunc(all_lines)\n",
    "\n",
    "#Not sure whether to remove stop words or not\n",
    "# all_words = remove_stop_words_lam(aString, stop)\n",
    "\n",
    "all_words = aString.split() "
   ]
  },
  {
   "cell_type": "code",
   "execution_count": 323,
   "metadata": {
    "collapsed": false
   },
   "outputs": [],
   "source": [
    "word_dict = {}\n",
    "for word in all_words:              #Check whether the current word in context is present in the dictionary\n",
    "    if word in word_dict:          #If it is present, increment the count for that word\n",
    "        word_dict[word] +=1\n",
    "    else:                           #Else add it to dictionary\n",
    "        word_dict[word] = 1\n",
    "\n",
    "#Sort the dictionary according to values and take top 10\n",
    "sorted_words_dict = sorted(word_dict.items(), key=operator.itemgetter(1), reverse=True)\n",
    "sorted_List = sorted(sorted_words_dict, key=lambda val: (-val[1], val[0]))\n",
    "#print(sorted_List)"
   ]
  },
  {
   "cell_type": "code",
   "execution_count": 324,
   "metadata": {
    "collapsed": false
   },
   "outputs": [],
   "source": [
    "#Rank the words\n",
    "def rank_the_words(list_of_sorted_words):\n",
    "    ranked_words_list = []\n",
    "    rank = 1;\n",
    "    # word, rank, frequency\n",
    "    for entry in list_of_sorted_words:\n",
    "        string_entry = entry[0]+','+str(rank)+','+str(entry[1])\n",
    "        rank+=1\n",
    "        ranked_words_list.append(string_entry)\n",
    "    return ranked_words_list\n",
    "\n",
    "all_words_list = rank_the_words(sorted_List)\n",
    "#print(all_words_list)"
   ]
  },
  {
   "cell_type": "code",
   "execution_count": 325,
   "metadata": {
    "collapsed": false
   },
   "outputs": [],
   "source": [
    "with open('word_rank.csv', 'wt') as csvoutput:\n",
    "    writer = csv.writer(csvoutput, delimiter=',', quoting=csv.QUOTE_NONE, lineterminator='\\n')\n",
    "    writer.writerow((\"Word\", 'Rank', 'Frequency'))\n",
    "    for row in all_words_list:\n",
    "        element = row.split(',')\n",
    "        writer.writerow(element)\n",
    "    \n",
    "    csvoutput.close()"
   ]
  },
  {
   "cell_type": "code",
   "execution_count": 326,
   "metadata": {
    "collapsed": false
   },
   "outputs": [
    {
     "data": {
      "image/png": "[encoded data removed]",
      "text/plain": [
       "<matplotlib.figure.Figure at 0x138010362b0>"
      ]
     },
     "metadata": {},
     "output_type": "display_data"
    }
   ],
   "source": [
    "reading_input = []\n",
    "with open('word_rank.csv', 'r') as csv_input:\n",
    "    reader = csv.reader(csv_input)\n",
    "    row = next(reader)\n",
    "    for row in reader:\n",
    "        reading_input.append(row[1:])\n",
    "\n",
    "x_val = []\n",
    "y_val = []\n",
    "for row in reading_input:\n",
    "    x_val.append(int(row[0]))\n",
    "    y_val.append(int(row[1]))\n",
    "\n",
    "plt.loglog(x_val, y_val, basex=10, basey=10, markeredgecolor='red')\n",
    "plt.grid(True)\n",
    "plt.title('loglog base 10 for graph')\n",
    "plt.show()"
   ]
  },
  {
   "cell_type": "code",
   "execution_count": null,
   "metadata": {
    "collapsed": true
   },
   "outputs": [],
   "source": []
  }
 ],
 "metadata": {
  "kernelspec": {
   "display_name": "Python [default]",
   "language": "python",
   "name": "python3"
  },
  "language_info": {
   "codemirror_mode": {
    "name": "ipython",
    "version": 3
   },
   "file_extension": ".py",
   "mimetype": "text/x-python",
   "name": "python",
   "nbconvert_exporter": "python",
   "pygments_lexer": "ipython3",
   "version": "3.5.2"
  }
 },
 "nbformat": 4,
 "nbformat_minor": 1
}
